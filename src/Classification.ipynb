{
 "cells": [
  {
   "cell_type": "markdown",
   "metadata": {},
   "source": [
    "<div align=\"center\"><h1> Projet Data Science </h1></div>\n",
    "<div align=\"center\"><h2> Classification d'assertions selon leur valeurs de véracité ( automatic fact-checking ) </h2></div>"
   ]
  },
  {
   "cell_type": "markdown",
   "metadata": {},
   "source": [
    "<div class=\"alert alert-block alert-info\" align=\"center\">\n",
    "    <h1>\n",
    "        Imports\n",
    "    </h1>\n",
    "</div>"
   ]
  },
  {
   "cell_type": "code",
   "execution_count": 1,
   "metadata": {},
   "outputs": [],
   "source": [
    "import pandas as pd\n",
    "import numpy as np \n",
    "import seaborn as sns\n",
    "import matplotlib.pyplot as plt\n",
    "import sklearn\n",
    "\n",
    "from enum import Enum"
   ]
  },
  {
   "cell_type": "markdown",
   "metadata": {},
   "source": [
    "<div class=\"alert alert-block alert-info\" align=\"center\">\n",
    "    <h1>\n",
    "        Loading the dataset\n",
    "    </h1>\n",
    "</div>"
   ]
  },
  {
   "cell_type": "code",
   "execution_count": 2,
   "metadata": {
    "scrolled": false
   },
   "outputs": [],
   "source": [
    "labels = [\"ID\", \"ClaimReviewAuthor\", \"ClaimReviewAuthorName\", \"ClaimReviewAuthorURL\",\n",
    "          \"ClaimReviewClaimReviewed\", \"ClaimReviewDatePublished\", \"ClaimReviewSource\", \"ClaimReviewURL\",\n",
    "          \"CreativeWorkAuthorName\", \"CreativeWorkAuthorSameAs\", \"CreativeWorkDatePublished\", \"ExtraBody\",\n",
    "          \"ExtraEntitiesAuthor\", \"ExtraEntitiesBody\", \"ExtraEntitiesClaimReviewClaimReviewed\", \"ExtraEntitiesKeywords\",\n",
    "          \"ExtraReferedLinks\", \"ExtraTags\", \"ExtraTitle\", \"RatingAlternateName\",\n",
    "          \"RatingBestRating\", \"RatingRatingValue\", \"RatingWorstRating\"]\n",
    "\n",
    "labelsClaimsKG = [\"ID\", \"Text\", \"Date\", \"TruthRating\", \"RatingName\", \"Author\", \"Headline\",\n",
    "                  \"NamedEntitiesClaim\", \"NamedEntitiesArticle\", \"Keywords\", \"Source\", \"SourceURL\", \"Link\", \"Language\"]\n",
    "\n",
    "df = pd.read_csv('datasets/ClaimsKG.csv', sep = ',', names = labelsClaimsKG, skiprows = 1)"
   ]
  },
  {
   "cell_type": "markdown",
   "metadata": {},
   "source": [
    "<div class=\"alert alert-block alert-info\" align=\"center\">\n",
    "    <h1>\n",
    "        Printing informations\n",
    "    </h1>\n",
    "</div>"
   ]
  },
  {
   "cell_type": "markdown",
   "metadata": {},
   "source": [
    "## Shape"
   ]
  },
  {
   "cell_type": "code",
   "execution_count": 3,
   "metadata": {},
   "outputs": [
    {
     "name": "stdout",
     "output_type": "stream",
     "text": [
      "Shape :\n",
      "(10000, 14)\n"
     ]
    }
   ],
   "source": [
    "print(f'Shape :\\n{df.shape}')"
   ]
  },
  {
   "cell_type": "markdown",
   "metadata": {},
   "source": [
    "## Informations"
   ]
  },
  {
   "cell_type": "code",
   "execution_count": 4,
   "metadata": {},
   "outputs": [
    {
     "name": "stdout",
     "output_type": "stream",
     "text": [
      "Informations :\n",
      "<class 'pandas.core.frame.DataFrame'>\n",
      "RangeIndex: 10000 entries, 0 to 9999\n",
      "Data columns (total 14 columns):\n",
      "ID                      10000 non-null object\n",
      "Text                    10000 non-null object\n",
      "Date                    10000 non-null object\n",
      "TruthRating             10000 non-null int64\n",
      "RatingName              10000 non-null object\n",
      "Author                  10000 non-null object\n",
      "Headline                9882 non-null object\n",
      "NamedEntitiesClaim      9864 non-null object\n",
      "NamedEntitiesArticle    6497 non-null object\n",
      "Keywords                8691 non-null object\n",
      "Source                  10000 non-null object\n",
      "SourceURL               10000 non-null object\n",
      "Link                    10000 non-null object\n",
      "Language                10000 non-null object\n",
      "dtypes: int64(1), object(13)\n",
      "memory usage: 1.1+ MB\n"
     ]
    }
   ],
   "source": [
    "print(f'Informations :')\n",
    "df.info()"
   ]
  },
  {
   "cell_type": "markdown",
   "metadata": {},
   "source": [
    "## Description"
   ]
  },
  {
   "cell_type": "code",
   "execution_count": 5,
   "metadata": {},
   "outputs": [
    {
     "name": "stdout",
     "output_type": "stream",
     "text": [
      "Description :\n"
     ]
    },
    {
     "data": {
      "text/html": [
       "<div>\n",
       "<style scoped>\n",
       "    .dataframe tbody tr th:only-of-type {\n",
       "        vertical-align: middle;\n",
       "    }\n",
       "\n",
       "    .dataframe tbody tr th {\n",
       "        vertical-align: top;\n",
       "    }\n",
       "\n",
       "    .dataframe thead th {\n",
       "        text-align: right;\n",
       "    }\n",
       "</style>\n",
       "<table border=\"1\" class=\"dataframe\">\n",
       "  <thead>\n",
       "    <tr style=\"text-align: right;\">\n",
       "      <th></th>\n",
       "      <th>TruthRating</th>\n",
       "    </tr>\n",
       "  </thead>\n",
       "  <tbody>\n",
       "    <tr>\n",
       "      <td>count</td>\n",
       "      <td>10000.000000</td>\n",
       "    </tr>\n",
       "    <tr>\n",
       "      <td>mean</td>\n",
       "      <td>1.237900</td>\n",
       "    </tr>\n",
       "    <tr>\n",
       "      <td>std</td>\n",
       "      <td>1.226154</td>\n",
       "    </tr>\n",
       "    <tr>\n",
       "      <td>min</td>\n",
       "      <td>-1.000000</td>\n",
       "    </tr>\n",
       "    <tr>\n",
       "      <td>25%</td>\n",
       "      <td>1.000000</td>\n",
       "    </tr>\n",
       "    <tr>\n",
       "      <td>50%</td>\n",
       "      <td>1.000000</td>\n",
       "    </tr>\n",
       "    <tr>\n",
       "      <td>75%</td>\n",
       "      <td>2.000000</td>\n",
       "    </tr>\n",
       "    <tr>\n",
       "      <td>max</td>\n",
       "      <td>3.000000</td>\n",
       "    </tr>\n",
       "  </tbody>\n",
       "</table>\n",
       "</div>"
      ],
      "text/plain": [
       "        TruthRating\n",
       "count  10000.000000\n",
       "mean       1.237900\n",
       "std        1.226154\n",
       "min       -1.000000\n",
       "25%        1.000000\n",
       "50%        1.000000\n",
       "75%        2.000000\n",
       "max        3.000000"
      ]
     },
     "metadata": {},
     "output_type": "display_data"
    }
   ],
   "source": [
    "print(f'Description :')\n",
    "display(df.describe())"
   ]
  },
  {
   "cell_type": "markdown",
   "metadata": {},
   "source": [
    "## Printing some lines"
   ]
  },
  {
   "cell_type": "code",
   "execution_count": 6,
   "metadata": {
    "scrolled": false
   },
   "outputs": [
    {
     "name": "stdout",
     "output_type": "stream",
     "text": [
      "Printing some lines :\n"
     ]
    },
    {
     "data": {
      "text/html": [
       "<div>\n",
       "<style scoped>\n",
       "    .dataframe tbody tr th:only-of-type {\n",
       "        vertical-align: middle;\n",
       "    }\n",
       "\n",
       "    .dataframe tbody tr th {\n",
       "        vertical-align: top;\n",
       "    }\n",
       "\n",
       "    .dataframe thead th {\n",
       "        text-align: right;\n",
       "    }\n",
       "</style>\n",
       "<table border=\"1\" class=\"dataframe\">\n",
       "  <thead>\n",
       "    <tr style=\"text-align: right;\">\n",
       "      <th></th>\n",
       "      <th>ID</th>\n",
       "      <th>Text</th>\n",
       "      <th>Date</th>\n",
       "      <th>TruthRating</th>\n",
       "      <th>RatingName</th>\n",
       "      <th>Author</th>\n",
       "      <th>Headline</th>\n",
       "      <th>NamedEntitiesClaim</th>\n",
       "      <th>NamedEntitiesArticle</th>\n",
       "      <th>Keywords</th>\n",
       "      <th>Source</th>\n",
       "      <th>SourceURL</th>\n",
       "      <th>Link</th>\n",
       "      <th>Language</th>\n",
       "    </tr>\n",
       "  </thead>\n",
       "  <tbody>\n",
       "    <tr>\n",
       "      <td>3360</td>\n",
       "      <td>http://data.gesis.org/claimskg/claim_review/22...</td>\n",
       "      <td>A photograph shows an obese tiger.</td>\n",
       "      <td>Unknown</td>\n",
       "      <td>1</td>\n",
       "      <td>FALSE</td>\n",
       "      <td>Unknown</td>\n",
       "      <td>Fat Cat</td>\n",
       "      <td>Photoshop contest,Reddit,Worth1000.com,fat tig...</td>\n",
       "      <td>NaN</td>\n",
       "      <td>animals</td>\n",
       "      <td>snopes</td>\n",
       "      <td>http://www.snopes.com</td>\n",
       "      <td>https://www.snopes.com/fact-check/obese-tiger-...</td>\n",
       "      <td>English</td>\n",
       "    </tr>\n",
       "    <tr>\n",
       "      <td>3001</td>\n",
       "      <td>http://data.gesis.org/claimskg/claim_review/e4...</td>\n",
       "      <td>'The Constitution doesn't allow the governor t...</td>\n",
       "      <td>2011-02-16</td>\n",
       "      <td>2</td>\n",
       "      <td>MIXTURE</td>\n",
       "      <td>J.D. Alexander</td>\n",
       "      <td>Senator makes point about Rick Scott’s authori...</td>\n",
       "      <td>Barack Obama,Bill Nelson,Charlie Crist,Dan Gel...</td>\n",
       "      <td>NaN</td>\n",
       "      <td>Ethics,State Budget,Transportation</td>\n",
       "      <td>politifact</td>\n",
       "      <td>http://www.politifact.com</td>\n",
       "      <td>http://www.politifact.com/florida/statements/2...</td>\n",
       "      <td>English</td>\n",
       "    </tr>\n",
       "    <tr>\n",
       "      <td>2541</td>\n",
       "      <td>http://data.gesis.org/claimskg/claim_review/15...</td>\n",
       "      <td>Photograph shows a surfer’s close encounter wi...</td>\n",
       "      <td>Unknown</td>\n",
       "      <td>-1</td>\n",
       "      <td>OTHER</td>\n",
       "      <td>Unknown</td>\n",
       "      <td>Shark Surfin’</td>\n",
       "      <td>Surfrider Beach</td>\n",
       "      <td>NaN</td>\n",
       "      <td>animals, ASP Article</td>\n",
       "      <td>snopes</td>\n",
       "      <td>http://www.snopes.com</td>\n",
       "      <td>https://www.snopes.com/fact-check/shark-surfin/</td>\n",
       "      <td>English</td>\n",
       "    </tr>\n",
       "    <tr>\n",
       "      <td>3817</td>\n",
       "      <td>http://data.gesis.org/claimskg/claim_review/f6...</td>\n",
       "      <td>From Obama's book: 'I found a solace in nursin...</td>\n",
       "      <td>2008-05-19</td>\n",
       "      <td>1</td>\n",
       "      <td>FALSE</td>\n",
       "      <td>Chain email</td>\n",
       "      <td>Obama didn't write that</td>\n",
       "      <td>Barack Obama,Dreams from My Father,Hawaii,Hold...</td>\n",
       "      <td>NaN</td>\n",
       "      <td>Candidate Biography</td>\n",
       "      <td>politifact</td>\n",
       "      <td>http://www.politifact.com</td>\n",
       "      <td>http://www.politifact.com/truth-o-meter/statem...</td>\n",
       "      <td>English</td>\n",
       "    </tr>\n",
       "    <tr>\n",
       "      <td>4949</td>\n",
       "      <td>http://data.gesis.org/claimskg/claim_review/f6...</td>\n",
       "      <td>A photo of the Kumbh Mela, a Hindu festival in...</td>\n",
       "      <td>2019-01-17</td>\n",
       "      <td>-1</td>\n",
       "      <td>OTHER</td>\n",
       "      <td>multiple sources</td>\n",
       "      <td>No, this is not a photo of the Kumbh Mela, a H...</td>\n",
       "      <td>Allahabad,BJP,Bharatiya Janata Party,Facebook,...</td>\n",
       "      <td>Hindu,India,Kumbh Mela,north India</td>\n",
       "      <td>NaN</td>\n",
       "      <td>factcheck_afp</td>\n",
       "      <td>https://factcheck.afp.com/</td>\n",
       "      <td>https://factcheck.afp.com//no-not-photo-kumbh-...</td>\n",
       "      <td>English</td>\n",
       "    </tr>\n",
       "  </tbody>\n",
       "</table>\n",
       "</div>"
      ],
      "text/plain": [
       "                                                     ID  \\\n",
       "3360  http://data.gesis.org/claimskg/claim_review/22...   \n",
       "3001  http://data.gesis.org/claimskg/claim_review/e4...   \n",
       "2541  http://data.gesis.org/claimskg/claim_review/15...   \n",
       "3817  http://data.gesis.org/claimskg/claim_review/f6...   \n",
       "4949  http://data.gesis.org/claimskg/claim_review/f6...   \n",
       "\n",
       "                                                   Text        Date  \\\n",
       "3360                 A photograph shows an obese tiger.     Unknown   \n",
       "3001  'The Constitution doesn't allow the governor t...  2011-02-16   \n",
       "2541  Photograph shows a surfer’s close encounter wi...     Unknown   \n",
       "3817  From Obama's book: 'I found a solace in nursin...  2008-05-19   \n",
       "4949  A photo of the Kumbh Mela, a Hindu festival in...  2019-01-17   \n",
       "\n",
       "      TruthRating RatingName            Author  \\\n",
       "3360            1      FALSE           Unknown   \n",
       "3001            2    MIXTURE    J.D. Alexander   \n",
       "2541           -1      OTHER           Unknown   \n",
       "3817            1      FALSE       Chain email   \n",
       "4949           -1      OTHER  multiple sources   \n",
       "\n",
       "                                               Headline  \\\n",
       "3360                                            Fat Cat   \n",
       "3001  Senator makes point about Rick Scott’s authori...   \n",
       "2541                                      Shark Surfin’   \n",
       "3817                            Obama didn't write that   \n",
       "4949  No, this is not a photo of the Kumbh Mela, a H...   \n",
       "\n",
       "                                     NamedEntitiesClaim  \\\n",
       "3360  Photoshop contest,Reddit,Worth1000.com,fat tig...   \n",
       "3001  Barack Obama,Bill Nelson,Charlie Crist,Dan Gel...   \n",
       "2541                                    Surfrider Beach   \n",
       "3817  Barack Obama,Dreams from My Father,Hawaii,Hold...   \n",
       "4949  Allahabad,BJP,Bharatiya Janata Party,Facebook,...   \n",
       "\n",
       "                    NamedEntitiesArticle                            Keywords  \\\n",
       "3360                                 NaN                             animals   \n",
       "3001                                 NaN  Ethics,State Budget,Transportation   \n",
       "2541                                 NaN                animals, ASP Article   \n",
       "3817                                 NaN                 Candidate Biography   \n",
       "4949  Hindu,India,Kumbh Mela,north India                                 NaN   \n",
       "\n",
       "             Source                   SourceURL  \\\n",
       "3360         snopes       http://www.snopes.com   \n",
       "3001     politifact   http://www.politifact.com   \n",
       "2541         snopes       http://www.snopes.com   \n",
       "3817     politifact   http://www.politifact.com   \n",
       "4949  factcheck_afp  https://factcheck.afp.com/   \n",
       "\n",
       "                                                   Link Language  \n",
       "3360  https://www.snopes.com/fact-check/obese-tiger-...  English  \n",
       "3001  http://www.politifact.com/florida/statements/2...  English  \n",
       "2541    https://www.snopes.com/fact-check/shark-surfin/  English  \n",
       "3817  http://www.politifact.com/truth-o-meter/statem...  English  \n",
       "4949  https://factcheck.afp.com//no-not-photo-kumbh-...  English  "
      ]
     },
     "metadata": {},
     "output_type": "display_data"
    }
   ],
   "source": [
    "print(f'Printing some lines :')\n",
    "display(df.sample(5))"
   ]
  },
  {
   "cell_type": "markdown",
   "metadata": {},
   "source": [
    "## Affichage d'informations sur toutes les colonnes"
   ]
  },
  {
   "cell_type": "code",
   "execution_count": 7,
   "metadata": {},
   "outputs": [
    {
     "name": "stdout",
     "output_type": "stream",
     "text": [
      "Nombre de valeurs nulles pour ID :\n",
      "False    10000\n",
      "Name: ID, dtype: int64\n",
      "\n",
      "Nombre de valeurs nulles pour Text :\n",
      "False    10000\n",
      "Name: Text, dtype: int64\n",
      "\n",
      "Nombre de valeurs nulles pour Date :\n",
      "False    10000\n",
      "Name: Date, dtype: int64\n",
      "\n",
      "Nombre de valeurs nulles pour TruthRating :\n",
      "False    10000\n",
      "Name: TruthRating, dtype: int64\n",
      "\n",
      "Nombre de valeurs nulles pour RatingName :\n",
      "False    10000\n",
      "Name: RatingName, dtype: int64\n",
      "\n",
      "Nombre de valeurs nulles pour Author :\n",
      "False    10000\n",
      "Name: Author, dtype: int64\n",
      "\n",
      "Nombre de valeurs nulles pour Headline :\n",
      "False    9882\n",
      "True      118\n",
      "Name: Headline, dtype: int64\n",
      "\n",
      "Nombre de valeurs nulles pour NamedEntitiesClaim :\n",
      "False    9864\n",
      "True      136\n",
      "Name: NamedEntitiesClaim, dtype: int64\n",
      "\n",
      "Nombre de valeurs nulles pour NamedEntitiesArticle :\n",
      "False    6497\n",
      "True     3503\n",
      "Name: NamedEntitiesArticle, dtype: int64\n",
      "\n",
      "Nombre de valeurs nulles pour Keywords :\n",
      "False    8691\n",
      "True     1309\n",
      "Name: Keywords, dtype: int64\n",
      "\n",
      "Nombre de valeurs nulles pour Source :\n",
      "False    10000\n",
      "Name: Source, dtype: int64\n",
      "\n",
      "Nombre de valeurs nulles pour SourceURL :\n",
      "False    10000\n",
      "Name: SourceURL, dtype: int64\n",
      "\n",
      "Nombre de valeurs nulles pour Link :\n",
      "False    10000\n",
      "Name: Link, dtype: int64\n",
      "\n",
      "Nombre de valeurs nulles pour Language :\n",
      "False    10000\n",
      "Name: Language, dtype: int64\n",
      "\n"
     ]
    }
   ],
   "source": [
    "for column in df.columns:\n",
    "      print(f'Nombre de valeurs nulles pour {column} :\\n{df[column].isnull().value_counts()}\\n')"
   ]
  },
  {
   "cell_type": "markdown",
   "metadata": {},
   "source": [
    "## Affichage des colonnes vides"
   ]
  },
  {
   "cell_type": "code",
   "execution_count": 8,
   "metadata": {},
   "outputs": [
    {
     "name": "stdout",
     "output_type": "stream",
     "text": [
      "Nombre de colonnes vides : 4\n",
      "Les colonnes vide sont :\n",
      "['Headline', 'NamedEntitiesClaim', 'NamedEntitiesArticle', 'Keywords']\n"
     ]
    }
   ],
   "source": [
    "array = []\n",
    "for column in df.columns:\n",
    "    value = False\n",
    "    value = df[column].isnull().any()\n",
    "    if value:\n",
    "        array.append(column)\n",
    "print(f'Nombre de colonnes vides : {len(array)}\\nLes colonnes vide sont :\\n{array}')"
   ]
  },
  {
   "cell_type": "markdown",
   "metadata": {},
   "source": [
    "## Get a series of unique values in each column of the dataframe"
   ]
  },
  {
   "cell_type": "code",
   "execution_count": 9,
   "metadata": {},
   "outputs": [
    {
     "name": "stdout",
     "output_type": "stream",
     "text": [
      "Number of unique elements in column ID : 9944, values & type :\n",
      "['http://data.gesis.org/claimskg/claim_review/becd1657-d104-5a3e-94de-61f26b8e3f6e'\n",
      " 'http://data.gesis.org/claimskg/claim_review/8a8a0f17-b1ec-5f86-8ad4-4bb0f1dd5cf5'\n",
      " 'http://data.gesis.org/claimskg/claim_review/c215a999-c7cf-5c9f-bada-bcddfccd9a56'\n",
      " ...\n",
      " 'http://data.gesis.org/claimskg/claim_review/0e921f02-25e3-5ec7-873d-dfefae8e0cb1'\n",
      " 'http://data.gesis.org/claimskg/claim_review/c94a3d9f-9758-5b90-8211-c381cbadcef8'\n",
      " 'http://data.gesis.org/claimskg/claim_review/d1e3a15c-9bcb-5026-97c1-dc5b14c8c16d']\n",
      "\n",
      "Number of unique elements in column Text : 9977, values & type :\n",
      "['Malia Obama cashed a $1.2 million tax refund check.'\n",
      " 'High diver is saved from jumping into a drained pool when he casts a cross-like shadow on the wall.'\n",
      " \"'And the revenue generated by drilling off Virginia’s coast? $40 million over 10 years.'\"\n",
      " ...\n",
      " \"'Trump Management was charged with discriminating against African-Americans and breaking federal law.'\"\n",
      " 'The NAACP is calling for the removal of an historical Civil War carving from Stone Mountain, Georgia.'\n",
      " \"'Ted Cruz tried to ban contraception' five times.\"]\n",
      "\n",
      "Number of unique elements in column Date : 2656, values & type :\n",
      "['Unknown' '2012-02-15' '2009-09-15' ... '2011-04-10' '2016-08-26'\n",
      " '2015-12-01']\n",
      "\n",
      "Number of unique elements in column TruthRating : 4, values & type :\n",
      "[-1  2  1  3]\n",
      "\n",
      "Number of unique elements in column RatingName : 4, values & type :\n",
      "['OTHER' 'MIXTURE' 'FALSE' 'TRUE']\n",
      "\n",
      "Number of unique elements in column Author : 1997, values & type :\n",
      "['Unknown' 'Jim Moran' 'Health Care for America Now' ... 'ITV News'\n",
      " 'Kathy Manning' 'College presidents']\n",
      "\n",
      "Number of unique elements in column Headline : 9839, values & type :\n",
      "['Did Malia Obama Cash a $1.2 Million Check?' 'High Diver Saved By Cross'\n",
      " \"Moran says drilling off Virginia's coast will net only $40 million for U.S. over 10 years\"\n",
      " ...\n",
      " 'Clinton ad: Trump Management was charged with discriminating against black people'\n",
      " 'Does the NAACP Want to Sandblast Confederate Figures Off Stone Mountain?'\n",
      " \"Hillary Clinton's exaggerated claim that Ted Cruz 'tried to ban contraception' five times\"]\n",
      "\n",
      "Number of unique elements in column NamedEntitiesClaim : 9819, values & type :\n",
      "['Facebook,Fan Fiction,Junk News,Malia Obama,Snopes,fake news,jQuery,t stop'\n",
      " 'Cincinnati Post,Islam,Scripture lesson,University of Cincinnati,mysterious ways,shadow on the wall,sign of the cross,star of David,the Internet,the sign'\n",
      " 'Alaska,American Petroleum Institute,Atlantic Ocean,Barack Obama,Bob McDonnell,Bureau of Ocean Energy Management,Congressional Budget Office,Energy Information Administration,Gulf of Mexico,Jim Moran,Jim Webb,Mark Warner,Mexico.A,Natural gas,State of the Union address,inflation-adjusted,natural gas,offshore drilling,oil shale'\n",
      " ...\n",
      " 'Art of the Deal,Civil Rights Act of 1968,Donald Trump,Fair Housing Act,Fred Trump,Hillary Clinton,New York City,North Carolina,Republican,Robert Schwemm,Schwemm,University of Kentucky,the New York Times'\n",
      " 'Atlanta Journal-Constitution,Charleston massacre,Charleston, South Carolina,Confederate Memorial Carving,Facebook,Jefferson Davis,NAACP,National Association for the Advancement of Colored People,Petersen he,Robert E. Lee,Stone Mountain,Stone Mountain Confederate Memorial,Stonewall Jackson,WSB-TV'\n",
      " 'Affordable Care Act,Association of Reproductive Health Professionals,Barack Obama,Bettendorf, Iowa,Bioethics,Georgia Right to Life,Harvard University,Hillary Clinton,Hobby Lobby,Mississippi College,Obamacare,Planned Parenthood,RU-486,Reproductive Health,Republican,Salon.com,Ted Cruz,U.S. Constitution,Washington, D.C,abortion,birth control,but not,contraception,egg, activation,embryo,emergency contraception,human life amendment,intra-uterine devices,medical abortion,morning-after pill,the New York Times,unintended pregnancy,uterus']\n",
      "\n",
      "Number of unique elements in column NamedEntitiesArticle : 4734, values & type :\n",
      "['Malia Obama' 'shadow on the wall' nan ... 'Medicare,Republican proposal'\n",
      " 'Barack Obama,Illinois Senate,hard-working families'\n",
      " 'NAACP,Stone Mountain, Georgia']\n",
      "\n",
      "Number of unique elements in column Keywords : 4527, values & type :\n",
      "[nan 'ASP Article' 'Energy,State Finances' ...\n",
      " 'Corrections and Updates,Federal Budget,Health Care,Medicare,This Week - ABC News'\n",
      " 'Candidate Biography,Civil Rights,Housing,Legal Issues'\n",
      " 'NAACP, stone mountain']\n",
      "\n",
      "Number of unique elements in column Source : 9, values & type :\n",
      "['truthorfiction' 'snopes' 'politifact' 'fullfact' 'checkyourfact'\n",
      " 'factcheck_afp' 'africacheck' 'factscan' 'factuel_afp_fr']\n",
      "\n",
      "Number of unique elements in column SourceURL : 9, values & type :\n",
      "['https://www.truthorfiction.com' 'http://www.snopes.com'\n",
      " 'http://www.politifact.com' 'https://fullfact.org/'\n",
      " 'http://checkyourfact.com' 'https://factcheck.afp.com/'\n",
      " 'https://africacheck.org' 'http://factscan.ca' 'https://factuel.afp.com/']\n",
      "\n",
      "Number of unique elements in column Link : 9927, values & type :\n",
      "['https://www.truthorfiction.com/did-malia-obama-cash-a-1-2-million-check/'\n",
      " 'https://www.snopes.com/fact-check/high-and-might-y/'\n",
      " 'http://www.politifact.com/virginia/statements/2012/mar/23/jim-moran/moran-says-dilling-virginias-coast-will-net-4-mill/'\n",
      " ...\n",
      " 'http://www.politifact.com/truth-o-meter/statements/2016/sep/14/hillary-clinton/clinton-ad-trump-management-was-charged-discrimina/'\n",
      " 'https://www.snopes.com/fact-check/naacp-wants-stone-mountain-sandblasted/'\n",
      " 'http://www.politifact.com/truth-o-meter/statements/2015/dec/02/hillary-clinton/hillary-clintons-exaggerated-claim-ted-cruz-tried-/']\n",
      "\n",
      "Number of unique elements in column Language : 1, values & type :\n",
      "['English']\n",
      "\n"
     ]
    }
   ],
   "source": [
    "for column in df.columns:\n",
    "    uniqueValues = df[column].unique()\n",
    "    print(f'Number of unique elements in column {column} : {len(uniqueValues)}, values & type :\\n{uniqueValues}\\n')"
   ]
  },
  {
   "cell_type": "markdown",
   "metadata": {},
   "source": [
    "## Affichage du nombre des différents TruthRating"
   ]
  },
  {
   "cell_type": "code",
   "execution_count": 10,
   "metadata": {},
   "outputs": [
    {
     "name": "stdout",
     "output_type": "stream",
     "text": [
      "La colonne TruthRating contient :\n",
      "1761 Other\n",
      "3665 False\n",
      "3247 Mixture\n",
      "1327 True\n"
     ]
    }
   ],
   "source": [
    "print(f'La colonne TruthRating contient :')\n",
    "print(f'{df[df[\"TruthRating\"]==-1][\"ID\"].count()} Other')\n",
    "print(f'{df[df[\"TruthRating\"]==1][\"ID\"].count()} False')\n",
    "print(f'{df[df[\"TruthRating\"]==2][\"ID\"].count()} Mixture')\n",
    "print(f'{df[df[\"TruthRating\"]==3][\"ID\"].count()} True')"
   ]
  },
  {
   "cell_type": "markdown",
   "metadata": {},
   "source": [
    "<div class=\"alert alert-block alert-info\" align=\"center\">\n",
    "    <h1>\n",
    "        Visualization\n",
    "    </h1>\n",
    "</div>"
   ]
  },
  {
   "cell_type": "code",
   "execution_count": 11,
   "metadata": {},
   "outputs": [
    {
     "data": {
      "image/png": "[encoded data removed]",
      "text/plain": [
       "<Figure size 432x288 with 1 Axes>"
      ]
     },
     "metadata": {
      "needs_background": "light"
     },
     "output_type": "display_data"
    }
   ],
   "source": [
    "chart = sns.countplot(x = 'Source', data = df)\n",
    "plt.setp(chart.get_xticklabels(), rotation = 45, horizontalalignment = 'right')\n",
    "plt.show()"
   ]
  },
  {
   "cell_type": "code",
   "execution_count": 12,
   "metadata": {},
   "outputs": [
    {
     "data": {
      "image/png": "[encoded data removed]",
      "text/plain": [
       "<Figure size 1440x360 with 4 Axes>"
      ]
     },
     "metadata": {
      "needs_background": "light"
     },
     "output_type": "display_data"
    }
   ],
   "source": [
    "chart = sns.catplot(x = 'Source', col = 'RatingName', kind = 'count', data = df)\n",
    "for ax in chart.axes.ravel():\n",
    "    plt.setp(ax.get_xticklabels(), rotation = 45, horizontalalignment = 'right')\n",
    "plt.show()"
   ]
  },
  {
   "cell_type": "code",
   "execution_count": 13,
   "metadata": {},
   "outputs": [
    {
     "data": {
      "image/png": "[encoded data removed]",
      "text/plain": [
       "<Figure size 432x288 with 1 Axes>"
      ]
     },
     "metadata": {
      "needs_background": "light"
     },
     "output_type": "display_data"
    }
   ],
   "source": [
    "sns.heatmap(df.isnull(), cbar = False)\n",
    "plt.show()"
   ]
  },
  {
   "cell_type": "markdown",
   "metadata": {},
   "source": [
    "<div class=\"alert alert-block alert-info\" align=\"center\">\n",
    "    <h1>\n",
    "        Mapping ratings\n",
    "    </h1>\n",
    "</div>"
   ]
  },
  {
   "cell_type": "code",
   "execution_count": 14,
   "metadata": {},
   "outputs": [],
   "source": [
    "class NormalizedRatings(Enum):\n",
    "    FALSE = 1\n",
    "    MIXTURE = 2\n",
    "    TRUE = 3\n",
    "    OTHER = -1\n",
    "\n",
    "_normalization_dictionary = {  # type: Dict[str, Dict[str,NormalizedRatings]]\n",
    "    \"politifact\": {  # type: Dict[str,NormalizedRatings]\n",
    "        'incorrect': NormalizedRatings.FALSE,\n",
    "        'pants-fire': NormalizedRatings.FALSE,\n",
    "        'pants on fire': NormalizedRatings.FALSE,\n",
    "        'pants on fire!': NormalizedRatings.FALSE,\n",
    "        'false': NormalizedRatings.FALSE,\n",
    "        'mostly correct': NormalizedRatings.MIXTURE,\n",
    "        'mostly false': NormalizedRatings.MIXTURE,\n",
    "        'barely true': NormalizedRatings.MIXTURE,\n",
    "        'half true': NormalizedRatings.MIXTURE,\n",
    "        'half-true': NormalizedRatings.MIXTURE,\n",
    "        'mostly true': NormalizedRatings.MIXTURE,\n",
    "        'true': NormalizedRatings.TRUE,\n",
    "        'correct': NormalizedRatings.TRUE\n",
    "    },\n",
    "    \"snopes\": {  # type: Dict[str,NormalizedRatings]\n",
    "        'false': NormalizedRatings.FALSE,\n",
    "        'legend': NormalizedRatings.FALSE,\n",
    "        'mixture': NormalizedRatings.MIXTURE,\n",
    "        'mixture:': NormalizedRatings.MIXTURE,\n",
    "        'true': NormalizedRatings.TRUE,\n",
    "        'mostly false': NormalizedRatings.MIXTURE,\n",
    "        'mostly true': NormalizedRatings.MIXTURE,\n",
    "        'partly true': NormalizedRatings.MIXTURE,\n",
    "        'MIXTURE OF TRUE AND FALSE INFORMATION': NormalizedRatings.MIXTURE,\n",
    "        'MIXTURE OF TRUE AND FALSE INFORMATION:': NormalizedRatings.MIXTURE,\n",
    "        'MIXTURE OF ACCURATE AND  INACCURATE INFORMATION': NormalizedRatings.MIXTURE\n",
    "    },\n",
    "    \"africacheck\": {  # type: Dict[str,NormalizedRatings]\n",
    "        'incorrect': NormalizedRatings.FALSE,\n",
    "        'mostly-correct': NormalizedRatings.MIXTURE,\n",
    "        'correct': NormalizedRatings.TRUE\n",
    "    },\n",
    "    \"factscan\": {  # type: Dict[str,NormalizedRatings]\n",
    "        'false': NormalizedRatings.FALSE,\n",
    "        'true': NormalizedRatings.TRUE,\n",
    "        'Misleading': NormalizedRatings.OTHER\n",
    "    },\n",
    "    \"truthorfiction\": {  # type: Dict[str,NormalizedRatings]\n",
    "        'fiction': NormalizedRatings.FALSE,\n",
    "        'truth': NormalizedRatings.TRUE,\n",
    "        'truth & fiction': NormalizedRatings.MIXTURE,\n",
    "        'mostly fiction': NormalizedRatings.MIXTURE,\n",
    "        'truth & misleading': NormalizedRatings.MIXTURE,\n",
    "        'mostly truth': NormalizedRatings.MIXTURE\n",
    "    },\n",
    "    \"checkyourfact\": {  # type: Dict[str,NormalizedRatings]\n",
    "        'False': NormalizedRatings.FALSE,\n",
    "        'True': NormalizedRatings.TRUE,\n",
    "        'Mostly True': NormalizedRatings.MIXTURE,\n",
    "        'true/false': NormalizedRatings.MIXTURE,\n",
    "        'truth & misleading': NormalizedRatings.MIXTURE,\n",
    "        'mostly truth': NormalizedRatings.MIXTURE,\n",
    "        'misleading': NormalizedRatings.MIXTURE\n",
    "    },\n",
    "    \"factcheck_aap\": {\n",
    "        \"True\": NormalizedRatings.TRUE,\n",
    "        \"False\": NormalizedRatings.FALSE,\n",
    "        \"Mostly True\": NormalizedRatings.MIXTURE,\n",
    "        \"Mostly False\": NormalizedRatings.MIXTURE,\n",
    "        \"Somewhat True\": NormalizedRatings.MIXTURE,\n",
    "        \"Somewhat False\": NormalizedRatings.MIXTURE\n",
    "    },\n",
    "    \"factuel_afp_fr\": {\n",
    "        'Faux': NormalizedRatings.FALSE,\n",
    "        'Totalement faux': NormalizedRatings.FALSE,\n",
    "        'Démenti': NormalizedRatings.FALSE,\n",
    "        \"C'est une oeuvre de fiction\": NormalizedRatings.FALSE,\n",
    "        'Vrai': NormalizedRatings.TRUE,\n",
    "        'Totalement Vrai': NormalizedRatings.TRUE,\n",
    "        'Plutôt vrai': NormalizedRatings.MIXTURE,\n",
    "        'Trompeur': NormalizedRatings.MIXTURE,\n",
    "        'trompeur': NormalizedRatings.MIXTURE,\n",
    "        'Plutôt faux': NormalizedRatings.MIXTURE,\n",
    "        'Presque': NormalizedRatings.MIXTURE,\n",
    "        'Mélangé': NormalizedRatings.MIXTURE,\n",
    "        'Mélange': NormalizedRatings.MIXTURE,\n",
    "        'Inexact': NormalizedRatings.MIXTURE,\n",
    "        'Incertain': NormalizedRatings.MIXTURE,\n",
    "        'Imprécis': NormalizedRatings.MIXTURE,\n",
    "        'Exagéré': NormalizedRatings.MIXTURE,\n",
    "        'Douteux': NormalizedRatings.MIXTURE,\n",
    "    },\n",
    "    \"factcheck_afp\": {\n",
    "        'False': NormalizedRatings.FALSE,\n",
    "        'Fake': NormalizedRatings.FALSE,\n",
    "        'Mixed': NormalizedRatings.MIXTURE,\n",
    "        'Hoax': NormalizedRatings.FALSE,\n",
    "        'Falso': NormalizedRatings.FALSE,\n",
    "        'APRIL FOOL': NormalizedRatings.FALSE\n",
    "    },\n",
    "    \"fullfact\": {\n",
    "        'Correct': NormalizedRatings.TRUE,\n",
    "        'Incorrect': NormalizedRatings.FALSE,\n",
    "        'Not quite': NormalizedRatings.MIXTURE\n",
    "    }\n",
    "}\n",
    "\n",
    "def _standardize_name(original_name: str):\n",
    "    return original_name.strip().lower().replace(\"!\", \"\").replace(\":\", \"\").replace(\"-\", \" \")\n",
    "\n",
    "def normalize(source_name, original_name) -> NormalizedRatings:\n",
    "    '''\n",
    "    Generate a normalized rating from the original ratings on each respective site\n",
    "    :param original_name:\n",
    "    :return normalized_rating: NormalizedRating\n",
    "    '''\n",
    "    try:\n",
    "        source = _normalization_dictionary[source_name]\n",
    "        normalized_value = source[_standardize_name(original_name)]\n",
    "    except KeyError:\n",
    "        normalized_value = NormalizedRatings.OTHER\n",
    "    return normalized_value"
   ]
  },
  {
   "cell_type": "markdown",
   "metadata": {},
   "source": [
    "<div class=\"alert alert-block alert-info\" align=\"center\">\n",
    "    <h1>\n",
    "        Pre-processing\n",
    "    </h1>\n",
    "</div>"
   ]
  },
  {
   "cell_type": "markdown",
   "metadata": {},
   "source": [
    "## Copie du data frame"
   ]
  },
  {
   "cell_type": "code",
   "execution_count": 15,
   "metadata": {},
   "outputs": [],
   "source": [
    "df2 = df.copy()"
   ]
  },
  {
   "cell_type": "markdown",
   "metadata": {},
   "source": [
    "## Removing columns that contain NaN"
   ]
  },
  {
   "cell_type": "code",
   "execution_count": 16,
   "metadata": {},
   "outputs": [],
   "source": [
    "df2 = df2.drop(['Headline', 'NamedEntitiesClaim', 'NamedEntitiesArticle', 'Keywords'], axis=1)"
   ]
  },
  {
   "cell_type": "code",
   "execution_count": 17,
   "metadata": {},
   "outputs": [
    {
     "data": {
      "image/png": "[encoded data removed]",
      "text/plain": [
       "<Figure size 432x288 with 1 Axes>"
      ]
     },
     "metadata": {
      "needs_background": "light"
     },
     "output_type": "display_data"
    }
   ],
   "source": [
    "sns.heatmap(df2.isnull(), cbar = False)\n",
    "plt.show()"
   ]
  }
 ],
 "metadata": {
  "kernelspec": {
   "display_name": "Python 3",
   "language": "python",
   "name": "python3"
  },
  "language_info": {
   "codemirror_mode": {
    "name": "ipython",
    "version": 3
   },
   "file_extension": ".py",
   "mimetype": "text/x-python",
   "name": "python",
   "nbconvert_exporter": "python",
   "pygments_lexer": "ipython3",
   "version": "3.7.4"
  }
 },
 "nbformat": 4,
 "nbformat_minor": 2
}
