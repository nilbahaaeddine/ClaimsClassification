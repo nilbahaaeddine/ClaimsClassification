{
 "cells": [
  {
   "cell_type": "markdown",
   "metadata": {},
   "source": [
    "<div align=\"center\"><h1> Projet Data Science </h1></div>\n",
    "<div align=\"center\"><h2> Classification d'assertions selon leur valeurs de véracité ( automatic fact-checking ) </h2></div>"
   ]
  },
  {
   "cell_type": "markdown",
   "metadata": {},
   "source": [
    "<div class=\"alert alert-block alert-info\" align=\"center\">\n",
    "    <h1>\n",
    "        Imports\n",
    "    </h1>\n",
    "</div>"
   ]
  },
  {
   "cell_type": "code",
   "execution_count": 1,
   "metadata": {},
   "outputs": [],
   "source": [
    "import pandas as pd\n",
    "import numpy as np \n",
    "import seaborn as sns\n",
    "import matplotlib.pyplot as plt\n",
    "import sklearn\n",
    "import warnings\n",
    "\n",
    "from enum import Enum\n",
    "from sklearn.preprocessing import LabelEncoder\n",
    "from sklearn.metrics import accuracy_score\n",
    "from sklearn.metrics import confusion_matrix\n",
    "from sklearn.metrics import classification_report\n",
    "from sklearn.model_selection import train_test_split\n",
    "from sklearn.model_selection import KFold\n",
    "from sklearn.model_selection import cross_val_score\n",
    "\n",
    "from sklearn.naive_bayes import GaussianNB\n",
    "from sklearn.neighbors import KNeighborsClassifier\n",
    "from sklearn.tree import DecisionTreeClassifier\n",
    "from sklearn.svm import SVC\n",
    "from sklearn.ensemble import RandomForestClassifier\n",
    "from sklearn.model_selection import GridSearchCV\n",
    "\n",
    "warnings.filterwarnings(\"ignore\", category = FutureWarning)"
   ]
  },
  {
   "cell_type": "markdown",
   "metadata": {},
   "source": [
    "<div class=\"alert alert-block alert-info\" align=\"center\">\n",
    "    <h1>\n",
    "        Loading the dataset\n",
    "    </h1>\n",
    "</div>"
   ]
  },
  {
   "cell_type": "code",
   "execution_count": 2,
   "metadata": {
    "scrolled": false
   },
   "outputs": [],
   "source": [
    "labels = [\"ID\", \"ClaimReviewAuthor\", \"ClaimReviewAuthorName\", \"ClaimReviewAuthorURL\",\n",
    "          \"ClaimReviewClaimReviewed\", \"ClaimReviewDatePublished\", \"ClaimReviewSource\", \"ClaimReviewURL\",\n",
    "          \"CreativeWorkAuthorName\", \"CreativeWorkAuthorSameAs\", \"CreativeWorkDatePublished\", \"ExtraBody\",\n",
    "          \"ExtraEntitiesAuthor\", \"ExtraEntitiesBody\", \"ExtraEntitiesClaimReviewClaimReviewed\", \"ExtraEntitiesKeywords\",\n",
    "          \"ExtraReferedLinks\", \"ExtraTags\", \"ExtraTitle\", \"RatingAlternateName\",\n",
    "          \"RatingBestRating\", \"RatingRatingValue\", \"RatingWorstRating\"]\n",
    "\n",
    "labelsClaimsKG = [\"ID\", \"Text\", \"Date\", \"TruthRating\", \"RatingName\", \"Author\", \"Headline\",\n",
    "                  \"NamedEntitiesClaim\", \"NamedEntitiesArticle\", \"Keywords\", \"Source\", \"SourceURL\", \"Link\", \"Language\"]\n",
    "\n",
    "df = pd.read_csv('datasets/ClaimsKG.csv', sep = ',', names = labelsClaimsKG, skiprows = 1)"
   ]
  },
  {
   "cell_type": "markdown",
   "metadata": {},
   "source": [
    "<div class=\"alert alert-block alert-info\" align=\"center\">\n",
    "    <h1>\n",
    "        Printing informations\n",
    "    </h1>\n",
    "</div>"
   ]
  },
  {
   "cell_type": "markdown",
   "metadata": {},
   "source": [
    "## Shape"
   ]
  },
  {
   "cell_type": "code",
   "execution_count": 3,
   "metadata": {},
   "outputs": [
    {
     "name": "stdout",
     "output_type": "stream",
     "text": [
      "Shape :\n",
      "(10000, 14)\n"
     ]
    }
   ],
   "source": [
    "print(f'Shape :\\n{df.shape}')"
   ]
  },
  {
   "cell_type": "markdown",
   "metadata": {},
   "source": [
    "## Informations"
   ]
  },
  {
   "cell_type": "code",
   "execution_count": 4,
   "metadata": {},
   "outputs": [
    {
     "name": "stdout",
     "output_type": "stream",
     "text": [
      "Informations :\n",
      "<class 'pandas.core.frame.DataFrame'>\n",
      "RangeIndex: 10000 entries, 0 to 9999\n",
      "Data columns (total 14 columns):\n",
      "ID                      10000 non-null object\n",
      "Text                    10000 non-null object\n",
      "Date                    10000 non-null object\n",
      "TruthRating             10000 non-null int64\n",
      "RatingName              10000 non-null object\n",
      "Author                  10000 non-null object\n",
      "Headline                9882 non-null object\n",
      "NamedEntitiesClaim      9864 non-null object\n",
      "NamedEntitiesArticle    6497 non-null object\n",
      "Keywords                8691 non-null object\n",
      "Source                  10000 non-null object\n",
      "SourceURL               10000 non-null object\n",
      "Link                    10000 non-null object\n",
      "Language                10000 non-null object\n",
      "dtypes: int64(1), object(13)\n",
      "memory usage: 1.1+ MB\n"
     ]
    }
   ],
   "source": [
    "print(f'Informations :')\n",
    "df.info()"
   ]
  },
  {
   "cell_type": "markdown",
   "metadata": {},
   "source": [
    "## Description"
   ]
  },
  {
   "cell_type": "code",
   "execution_count": 5,
   "metadata": {},
   "outputs": [
    {
     "name": "stdout",
     "output_type": "stream",
     "text": [
      "Description :\n"
     ]
    },
    {
     "data": {
      "text/html": [
       "<div>\n",
       "<style scoped>\n",
       "    .dataframe tbody tr th:only-of-type {\n",
       "        vertical-align: middle;\n",
       "    }\n",
       "\n",
       "    .dataframe tbody tr th {\n",
       "        vertical-align: top;\n",
       "    }\n",
       "\n",
       "    .dataframe thead th {\n",
       "        text-align: right;\n",
       "    }\n",
       "</style>\n",
       "<table border=\"1\" class=\"dataframe\">\n",
       "  <thead>\n",
       "    <tr style=\"text-align: right;\">\n",
       "      <th></th>\n",
       "      <th>TruthRating</th>\n",
       "    </tr>\n",
       "  </thead>\n",
       "  <tbody>\n",
       "    <tr>\n",
       "      <td>count</td>\n",
       "      <td>10000.000000</td>\n",
       "    </tr>\n",
       "    <tr>\n",
       "      <td>mean</td>\n",
       "      <td>1.237900</td>\n",
       "    </tr>\n",
       "    <tr>\n",
       "      <td>std</td>\n",
       "      <td>1.226154</td>\n",
       "    </tr>\n",
       "    <tr>\n",
       "      <td>min</td>\n",
       "      <td>-1.000000</td>\n",
       "    </tr>\n",
       "    <tr>\n",
       "      <td>25%</td>\n",
       "      <td>1.000000</td>\n",
       "    </tr>\n",
       "    <tr>\n",
       "      <td>50%</td>\n",
       "      <td>1.000000</td>\n",
       "    </tr>\n",
       "    <tr>\n",
       "      <td>75%</td>\n",
       "      <td>2.000000</td>\n",
       "    </tr>\n",
       "    <tr>\n",
       "      <td>max</td>\n",
       "      <td>3.000000</td>\n",
       "    </tr>\n",
       "  </tbody>\n",
       "</table>\n",
       "</div>"
      ],
      "text/plain": [
       "        TruthRating\n",
       "count  10000.000000\n",
       "mean       1.237900\n",
       "std        1.226154\n",
       "min       -1.000000\n",
       "25%        1.000000\n",
       "50%        1.000000\n",
       "75%        2.000000\n",
       "max        3.000000"
      ]
     },
     "metadata": {},
     "output_type": "display_data"
    }
   ],
   "source": [
    "print(f'Description :')\n",
    "display(df.describe())"
   ]
  },
  {
   "cell_type": "markdown",
   "metadata": {},
   "source": [
    "## Printing some lines"
   ]
  },
  {
   "cell_type": "code",
   "execution_count": 6,
   "metadata": {
    "scrolled": false
   },
   "outputs": [
    {
     "name": "stdout",
     "output_type": "stream",
     "text": [
      "Printing some lines :\n"
     ]
    },
    {
     "data": {
      "text/html": [
       "<div>\n",
       "<style scoped>\n",
       "    .dataframe tbody tr th:only-of-type {\n",
       "        vertical-align: middle;\n",
       "    }\n",
       "\n",
       "    .dataframe tbody tr th {\n",
       "        vertical-align: top;\n",
       "    }\n",
       "\n",
       "    .dataframe thead th {\n",
       "        text-align: right;\n",
       "    }\n",
       "</style>\n",
       "<table border=\"1\" class=\"dataframe\">\n",
       "  <thead>\n",
       "    <tr style=\"text-align: right;\">\n",
       "      <th></th>\n",
       "      <th>ID</th>\n",
       "      <th>Text</th>\n",
       "      <th>Date</th>\n",
       "      <th>TruthRating</th>\n",
       "      <th>RatingName</th>\n",
       "      <th>Author</th>\n",
       "      <th>Headline</th>\n",
       "      <th>NamedEntitiesClaim</th>\n",
       "      <th>NamedEntitiesArticle</th>\n",
       "      <th>Keywords</th>\n",
       "      <th>Source</th>\n",
       "      <th>SourceURL</th>\n",
       "      <th>Link</th>\n",
       "      <th>Language</th>\n",
       "    </tr>\n",
       "  </thead>\n",
       "  <tbody>\n",
       "    <tr>\n",
       "      <td>2405</td>\n",
       "      <td>http://data.gesis.org/claimskg/claim_review/96...</td>\n",
       "      <td>'Jeff Greene can buy anything' ...  he owns tw...</td>\n",
       "      <td>2010-07-29</td>\n",
       "      <td>3</td>\n",
       "      <td>TRUE</td>\n",
       "      <td>Kendrick Meek</td>\n",
       "      <td>What you see is what you get - Kendrick Meek h...</td>\n",
       "      <td>Belize,Jeff Greene,Kendrick Meek,Palazzo di Am...</td>\n",
       "      <td>Jeff Greene</td>\n",
       "      <td>Candidate Biography,Elections,Message Machine ...</td>\n",
       "      <td>politifact</td>\n",
       "      <td>http://www.politifact.com</td>\n",
       "      <td>http://www.politifact.com/florida/statements/2...</td>\n",
       "      <td>English</td>\n",
       "    </tr>\n",
       "    <tr>\n",
       "      <td>8533</td>\n",
       "      <td>http://data.gesis.org/claimskg/claim_review/ae...</td>\n",
       "      <td>Says Democratic challenger Gina Ortiz Jones ha...</td>\n",
       "      <td>2018-08-18</td>\n",
       "      <td>1</td>\n",
       "      <td>FALSE</td>\n",
       "      <td>Will Hurd</td>\n",
       "      <td>Will Hurd way off on foe getting more money fr...</td>\n",
       "      <td>ActBlue,Center for Responsive Politics,Federal...</td>\n",
       "      <td>Gina Ortiz Jones,Texas</td>\n",
       "      <td>Campaign Finance,States</td>\n",
       "      <td>politifact</td>\n",
       "      <td>http://www.politifact.com</td>\n",
       "      <td>http://www.politifact.com/texas/statements/201...</td>\n",
       "      <td>English</td>\n",
       "    </tr>\n",
       "    <tr>\n",
       "      <td>7069</td>\n",
       "      <td>http://data.gesis.org/claimskg/claim_review/d2...</td>\n",
       "      <td>Austin’s Pease Elementary 'is a school that wa...</td>\n",
       "      <td>2011-04-01</td>\n",
       "      <td>1</td>\n",
       "      <td>FALSE</td>\n",
       "      <td>Meria Carstarphen</td>\n",
       "      <td>Austin's school superintendent says Pease Elem...</td>\n",
       "      <td>Austin College,Elisha M. Pease,KUT-FM,Mirabeau...</td>\n",
       "      <td>Texas Constitution</td>\n",
       "      <td>Education</td>\n",
       "      <td>politifact</td>\n",
       "      <td>http://www.politifact.com</td>\n",
       "      <td>http://www.politifact.com/texas/statements/201...</td>\n",
       "      <td>English</td>\n",
       "    </tr>\n",
       "    <tr>\n",
       "      <td>340</td>\n",
       "      <td>http://data.gesis.org/claimskg/claim_review/32...</td>\n",
       "      <td>Notorious criminal Charles Manson has endorsed...</td>\n",
       "      <td>Unknown</td>\n",
       "      <td>1</td>\n",
       "      <td>FALSE</td>\n",
       "      <td>Unknown</td>\n",
       "      <td>Charles Manson Endorses Trump</td>\n",
       "      <td>CHARLES MANSON,Charles Manson,DONALD TRUMP,Don...</td>\n",
       "      <td>Charles Manson,Donald Trump</td>\n",
       "      <td>charles manson, donald trump, news generator s...</td>\n",
       "      <td>snopes</td>\n",
       "      <td>http://www.snopes.com</td>\n",
       "      <td>https://www.snopes.com/fact-check/charles-mans...</td>\n",
       "      <td>English</td>\n",
       "    </tr>\n",
       "    <tr>\n",
       "      <td>9416</td>\n",
       "      <td>http://data.gesis.org/claimskg/claim_review/aa...</td>\n",
       "      <td>Players whose photos grace cans of Campbell’s ...</td>\n",
       "      <td>Unknown</td>\n",
       "      <td>1</td>\n",
       "      <td>FALSE</td>\n",
       "      <td>Unknown</td>\n",
       "      <td>Chunky Soup Curse</td>\n",
       "      <td>Adweek,CNN Sports Illustrated,Chicago Sun-Time...</td>\n",
       "      <td>NaN</td>\n",
       "      <td>ASP Article, football</td>\n",
       "      <td>snopes</td>\n",
       "      <td>http://www.snopes.com</td>\n",
       "      <td>https://www.snopes.com/fact-check/souperstitio...</td>\n",
       "      <td>English</td>\n",
       "    </tr>\n",
       "  </tbody>\n",
       "</table>\n",
       "</div>"
      ],
      "text/plain": [
       "                                                     ID  \\\n",
       "2405  http://data.gesis.org/claimskg/claim_review/96...   \n",
       "8533  http://data.gesis.org/claimskg/claim_review/ae...   \n",
       "7069  http://data.gesis.org/claimskg/claim_review/d2...   \n",
       "340   http://data.gesis.org/claimskg/claim_review/32...   \n",
       "9416  http://data.gesis.org/claimskg/claim_review/aa...   \n",
       "\n",
       "                                                   Text        Date  \\\n",
       "2405  'Jeff Greene can buy anything' ...  he owns tw...  2010-07-29   \n",
       "8533  Says Democratic challenger Gina Ortiz Jones ha...  2018-08-18   \n",
       "7069  Austin’s Pease Elementary 'is a school that wa...  2011-04-01   \n",
       "340   Notorious criminal Charles Manson has endorsed...     Unknown   \n",
       "9416  Players whose photos grace cans of Campbell’s ...     Unknown   \n",
       "\n",
       "      TruthRating RatingName             Author  \\\n",
       "2405            3       TRUE      Kendrick Meek   \n",
       "8533            1      FALSE          Will Hurd   \n",
       "7069            1      FALSE  Meria Carstarphen   \n",
       "340             1      FALSE            Unknown   \n",
       "9416            1      FALSE            Unknown   \n",
       "\n",
       "                                               Headline  \\\n",
       "2405  What you see is what you get - Kendrick Meek h...   \n",
       "8533  Will Hurd way off on foe getting more money fr...   \n",
       "7069  Austin's school superintendent says Pease Elem...   \n",
       "340                       Charles Manson Endorses Trump   \n",
       "9416                                  Chunky Soup Curse   \n",
       "\n",
       "                                     NamedEntitiesClaim  \\\n",
       "2405  Belize,Jeff Greene,Kendrick Meek,Palazzo di Am...   \n",
       "8533  ActBlue,Center for Responsive Politics,Federal...   \n",
       "7069  Austin College,Elisha M. Pease,KUT-FM,Mirabeau...   \n",
       "340   CHARLES MANSON,Charles Manson,DONALD TRUMP,Don...   \n",
       "9416  Adweek,CNN Sports Illustrated,Chicago Sun-Time...   \n",
       "\n",
       "             NamedEntitiesArticle  \\\n",
       "2405                  Jeff Greene   \n",
       "8533       Gina Ortiz Jones,Texas   \n",
       "7069           Texas Constitution   \n",
       "340   Charles Manson,Donald Trump   \n",
       "9416                          NaN   \n",
       "\n",
       "                                               Keywords      Source  \\\n",
       "2405  Candidate Biography,Elections,Message Machine ...  politifact   \n",
       "8533                            Campaign Finance,States  politifact   \n",
       "7069                                          Education  politifact   \n",
       "340   charles manson, donald trump, news generator s...      snopes   \n",
       "9416                              ASP Article, football      snopes   \n",
       "\n",
       "                      SourceURL  \\\n",
       "2405  http://www.politifact.com   \n",
       "8533  http://www.politifact.com   \n",
       "7069  http://www.politifact.com   \n",
       "340       http://www.snopes.com   \n",
       "9416      http://www.snopes.com   \n",
       "\n",
       "                                                   Link Language  \n",
       "2405  http://www.politifact.com/florida/statements/2...  English  \n",
       "8533  http://www.politifact.com/texas/statements/201...  English  \n",
       "7069  http://www.politifact.com/texas/statements/201...  English  \n",
       "340   https://www.snopes.com/fact-check/charles-mans...  English  \n",
       "9416  https://www.snopes.com/fact-check/souperstitio...  English  "
      ]
     },
     "metadata": {},
     "output_type": "display_data"
    }
   ],
   "source": [
    "print(f'Printing some lines :')\n",
    "display(df.sample(5))"
   ]
  },
  {
   "cell_type": "markdown",
   "metadata": {},
   "source": [
    "## Affichage d'informations sur toutes les colonnes"
   ]
  },
  {
   "cell_type": "code",
   "execution_count": 7,
   "metadata": {},
   "outputs": [
    {
     "name": "stdout",
     "output_type": "stream",
     "text": [
      "Nombre de valeurs nulles pour ID :\n",
      "False    10000\n",
      "Name: ID, dtype: int64\n",
      "\n",
      "Nombre de valeurs nulles pour Text :\n",
      "False    10000\n",
      "Name: Text, dtype: int64\n",
      "\n",
      "Nombre de valeurs nulles pour Date :\n",
      "False    10000\n",
      "Name: Date, dtype: int64\n",
      "\n",
      "Nombre de valeurs nulles pour TruthRating :\n",
      "False    10000\n",
      "Name: TruthRating, dtype: int64\n",
      "\n",
      "Nombre de valeurs nulles pour RatingName :\n",
      "False    10000\n",
      "Name: RatingName, dtype: int64\n",
      "\n",
      "Nombre de valeurs nulles pour Author :\n",
      "False    10000\n",
      "Name: Author, dtype: int64\n",
      "\n",
      "Nombre de valeurs nulles pour Headline :\n",
      "False    9882\n",
      "True      118\n",
      "Name: Headline, dtype: int64\n",
      "\n",
      "Nombre de valeurs nulles pour NamedEntitiesClaim :\n",
      "False    9864\n",
      "True      136\n",
      "Name: NamedEntitiesClaim, dtype: int64\n",
      "\n",
      "Nombre de valeurs nulles pour NamedEntitiesArticle :\n",
      "False    6497\n",
      "True     3503\n",
      "Name: NamedEntitiesArticle, dtype: int64\n",
      "\n",
      "Nombre de valeurs nulles pour Keywords :\n",
      "False    8691\n",
      "True     1309\n",
      "Name: Keywords, dtype: int64\n",
      "\n",
      "Nombre de valeurs nulles pour Source :\n",
      "False    10000\n",
      "Name: Source, dtype: int64\n",
      "\n",
      "Nombre de valeurs nulles pour SourceURL :\n",
      "False    10000\n",
      "Name: SourceURL, dtype: int64\n",
      "\n",
      "Nombre de valeurs nulles pour Link :\n",
      "False    10000\n",
      "Name: Link, dtype: int64\n",
      "\n",
      "Nombre de valeurs nulles pour Language :\n",
      "False    10000\n",
      "Name: Language, dtype: int64\n",
      "\n"
     ]
    }
   ],
   "source": [
    "for column in df.columns:\n",
    "      print(f'Nombre de valeurs nulles pour {column} :\\n{df[column].isnull().value_counts()}\\n')"
   ]
  },
  {
   "cell_type": "markdown",
   "metadata": {},
   "source": [
    "## Affichage des colonnes vides"
   ]
  },
  {
   "cell_type": "code",
   "execution_count": 8,
   "metadata": {},
   "outputs": [
    {
     "name": "stdout",
     "output_type": "stream",
     "text": [
      "Nombre de colonnes vides : 4\n",
      "Les colonnes vide sont :\n",
      "['Headline', 'NamedEntitiesClaim', 'NamedEntitiesArticle', 'Keywords']\n"
     ]
    }
   ],
   "source": [
    "array = []\n",
    "for column in df.columns:\n",
    "    value = False\n",
    "    value = df[column].isnull().any()\n",
    "    if value:\n",
    "        array.append(column)\n",
    "print(f'Nombre de colonnes vides : {len(array)}\\nLes colonnes vide sont :\\n{array}')"
   ]
  },
  {
   "cell_type": "markdown",
   "metadata": {},
   "source": [
    "## Get a series of unique values in each column of the dataframe"
   ]
  },
  {
   "cell_type": "code",
   "execution_count": 9,
   "metadata": {},
   "outputs": [
    {
     "name": "stdout",
     "output_type": "stream",
     "text": [
      "Number of unique elements in column ID : 9944, values & type :\n",
      "['http://data.gesis.org/claimskg/claim_review/becd1657-d104-5a3e-94de-61f26b8e3f6e'\n",
      " 'http://data.gesis.org/claimskg/claim_review/8a8a0f17-b1ec-5f86-8ad4-4bb0f1dd5cf5'\n",
      " 'http://data.gesis.org/claimskg/claim_review/c215a999-c7cf-5c9f-bada-bcddfccd9a56'\n",
      " ...\n",
      " 'http://data.gesis.org/claimskg/claim_review/0e921f02-25e3-5ec7-873d-dfefae8e0cb1'\n",
      " 'http://data.gesis.org/claimskg/claim_review/c94a3d9f-9758-5b90-8211-c381cbadcef8'\n",
      " 'http://data.gesis.org/claimskg/claim_review/d1e3a15c-9bcb-5026-97c1-dc5b14c8c16d']\n",
      "\n",
      "Number of unique elements in column Text : 9977, values & type :\n",
      "['Malia Obama cashed a $1.2 million tax refund check.'\n",
      " 'High diver is saved from jumping into a drained pool when he casts a cross-like shadow on the wall.'\n",
      " \"'And the revenue generated by drilling off Virginia’s coast? $40 million over 10 years.'\"\n",
      " ...\n",
      " \"'Trump Management was charged with discriminating against African-Americans and breaking federal law.'\"\n",
      " 'The NAACP is calling for the removal of an historical Civil War carving from Stone Mountain, Georgia.'\n",
      " \"'Ted Cruz tried to ban contraception' five times.\"]\n",
      "\n",
      "Number of unique elements in column Date : 2656, values & type :\n",
      "['Unknown' '2012-02-15' '2009-09-15' ... '2011-04-10' '2016-08-26'\n",
      " '2015-12-01']\n",
      "\n",
      "Number of unique elements in column TruthRating : 4, values & type :\n",
      "[-1  2  1  3]\n",
      "\n",
      "Number of unique elements in column RatingName : 4, values & type :\n",
      "['OTHER' 'MIXTURE' 'FALSE' 'TRUE']\n",
      "\n",
      "Number of unique elements in column Author : 1997, values & type :\n",
      "['Unknown' 'Jim Moran' 'Health Care for America Now' ... 'ITV News'\n",
      " 'Kathy Manning' 'College presidents']\n",
      "\n",
      "Number of unique elements in column Headline : 9839, values & type :\n",
      "['Did Malia Obama Cash a $1.2 Million Check?' 'High Diver Saved By Cross'\n",
      " \"Moran says drilling off Virginia's coast will net only $40 million for U.S. over 10 years\"\n",
      " ...\n",
      " 'Clinton ad: Trump Management was charged with discriminating against black people'\n",
      " 'Does the NAACP Want to Sandblast Confederate Figures Off Stone Mountain?'\n",
      " \"Hillary Clinton's exaggerated claim that Ted Cruz 'tried to ban contraception' five times\"]\n",
      "\n",
      "Number of unique elements in column NamedEntitiesClaim : 9819, values & type :\n",
      "['Facebook,Fan Fiction,Junk News,Malia Obama,Snopes,fake news,jQuery,t stop'\n",
      " 'Cincinnati Post,Islam,Scripture lesson,University of Cincinnati,mysterious ways,shadow on the wall,sign of the cross,star of David,the Internet,the sign'\n",
      " 'Alaska,American Petroleum Institute,Atlantic Ocean,Barack Obama,Bob McDonnell,Bureau of Ocean Energy Management,Congressional Budget Office,Energy Information Administration,Gulf of Mexico,Jim Moran,Jim Webb,Mark Warner,Mexico.A,Natural gas,State of the Union address,inflation-adjusted,natural gas,offshore drilling,oil shale'\n",
      " ...\n",
      " 'Art of the Deal,Civil Rights Act of 1968,Donald Trump,Fair Housing Act,Fred Trump,Hillary Clinton,New York City,North Carolina,Republican,Robert Schwemm,Schwemm,University of Kentucky,the New York Times'\n",
      " 'Atlanta Journal-Constitution,Charleston massacre,Charleston, South Carolina,Confederate Memorial Carving,Facebook,Jefferson Davis,NAACP,National Association for the Advancement of Colored People,Petersen he,Robert E. Lee,Stone Mountain,Stone Mountain Confederate Memorial,Stonewall Jackson,WSB-TV'\n",
      " 'Affordable Care Act,Association of Reproductive Health Professionals,Barack Obama,Bettendorf, Iowa,Bioethics,Georgia Right to Life,Harvard University,Hillary Clinton,Hobby Lobby,Mississippi College,Obamacare,Planned Parenthood,RU-486,Reproductive Health,Republican,Salon.com,Ted Cruz,U.S. Constitution,Washington, D.C,abortion,birth control,but not,contraception,egg, activation,embryo,emergency contraception,human life amendment,intra-uterine devices,medical abortion,morning-after pill,the New York Times,unintended pregnancy,uterus']\n",
      "\n",
      "Number of unique elements in column NamedEntitiesArticle : 4734, values & type :\n",
      "['Malia Obama' 'shadow on the wall' nan ... 'Medicare,Republican proposal'\n",
      " 'Barack Obama,Illinois Senate,hard-working families'\n",
      " 'NAACP,Stone Mountain, Georgia']\n",
      "\n",
      "Number of unique elements in column Keywords : 4527, values & type :\n",
      "[nan 'ASP Article' 'Energy,State Finances' ...\n",
      " 'Corrections and Updates,Federal Budget,Health Care,Medicare,This Week - ABC News'\n",
      " 'Candidate Biography,Civil Rights,Housing,Legal Issues'\n",
      " 'NAACP, stone mountain']\n",
      "\n",
      "Number of unique elements in column Source : 9, values & type :\n",
      "['truthorfiction' 'snopes' 'politifact' 'fullfact' 'checkyourfact'\n",
      " 'factcheck_afp' 'africacheck' 'factscan' 'factuel_afp_fr']\n",
      "\n",
      "Number of unique elements in column SourceURL : 9, values & type :\n",
      "['https://www.truthorfiction.com' 'http://www.snopes.com'\n",
      " 'http://www.politifact.com' 'https://fullfact.org/'\n",
      " 'http://checkyourfact.com' 'https://factcheck.afp.com/'\n",
      " 'https://africacheck.org' 'http://factscan.ca' 'https://factuel.afp.com/']\n",
      "\n",
      "Number of unique elements in column Link : 9927, values & type :\n",
      "['https://www.truthorfiction.com/did-malia-obama-cash-a-1-2-million-check/'\n",
      " 'https://www.snopes.com/fact-check/high-and-might-y/'\n",
      " 'http://www.politifact.com/virginia/statements/2012/mar/23/jim-moran/moran-says-dilling-virginias-coast-will-net-4-mill/'\n",
      " ...\n",
      " 'http://www.politifact.com/truth-o-meter/statements/2016/sep/14/hillary-clinton/clinton-ad-trump-management-was-charged-discrimina/'\n",
      " 'https://www.snopes.com/fact-check/naacp-wants-stone-mountain-sandblasted/'\n",
      " 'http://www.politifact.com/truth-o-meter/statements/2015/dec/02/hillary-clinton/hillary-clintons-exaggerated-claim-ted-cruz-tried-/']\n",
      "\n",
      "Number of unique elements in column Language : 1, values & type :\n",
      "['English']\n",
      "\n"
     ]
    }
   ],
   "source": [
    "for column in df.columns:\n",
    "    uniqueValues = df[column].unique()\n",
    "    print(f'Number of unique elements in column {column} : {len(uniqueValues)}, values & type :\\n{uniqueValues}\\n')"
   ]
  },
  {
   "cell_type": "markdown",
   "metadata": {},
   "source": [
    "## Affichage du nombre des différents TruthRating"
   ]
  },
  {
   "cell_type": "code",
   "execution_count": 10,
   "metadata": {},
   "outputs": [
    {
     "name": "stdout",
     "output_type": "stream",
     "text": [
      "La colonne TruthRating contient :\n",
      "1761 Other\n",
      "3665 False\n",
      "3247 Mixture\n",
      "1327 True\n"
     ]
    }
   ],
   "source": [
    "print(f'La colonne TruthRating contient :')\n",
    "print(f'{df[df[\"TruthRating\"]==-1][\"ID\"].count()} Other')\n",
    "print(f'{df[df[\"TruthRating\"]==1][\"ID\"].count()} False')\n",
    "print(f'{df[df[\"TruthRating\"]==2][\"ID\"].count()} Mixture')\n",
    "print(f'{df[df[\"TruthRating\"]==3][\"ID\"].count()} True')"
   ]
  },
  {
   "cell_type": "markdown",
   "metadata": {},
   "source": [
    "<div class=\"alert alert-block alert-info\" align=\"center\">\n",
    "    <h1>\n",
    "        Visualization\n",
    "    </h1>\n",
    "</div>"
   ]
  },
  {
   "cell_type": "code",
   "execution_count": 11,
   "metadata": {},
   "outputs": [
    {
     "data": {
      "image/png": "[encoded data removed]",
      "text/plain": [
       "<Figure size 432x288 with 1 Axes>"
      ]
     },
     "metadata": {
      "needs_background": "light"
     },
     "output_type": "display_data"
    }
   ],
   "source": [
    "chart = sns.countplot(x = 'Source', data = df)\n",
    "plt.setp(chart.get_xticklabels(), rotation = 45, horizontalalignment = 'right')\n",
    "plt.show()"
   ]
  },
  {
   "cell_type": "code",
   "execution_count": 12,
   "metadata": {},
   "outputs": [
    {
     "data": {
      "image/png": "[encoded data removed]",
      "text/plain": [
       "<Figure size 1440x360 with 4 Axes>"
      ]
     },
     "metadata": {
      "needs_background": "light"
     },
     "output_type": "display_data"
    }
   ],
   "source": [
    "chart = sns.catplot(x = 'Source', col = 'RatingName', kind = 'count', data = df)\n",
    "for ax in chart.axes.ravel():\n",
    "    plt.setp(ax.get_xticklabels(), rotation = 45, horizontalalignment = 'right')\n",
    "plt.show()"
   ]
  },
  {
   "cell_type": "code",
   "execution_count": 13,
   "metadata": {},
   "outputs": [
    {
     "data": {
      "image/png": "[encoded data removed]",
      "text/plain": [
       "<Figure size 440.875x360 with 1 Axes>"
      ]
     },
     "metadata": {
      "needs_background": "light"
     },
     "output_type": "display_data"
    }
   ],
   "source": [
    "chart = sns.catplot('Source', data = df, hue = 'RatingName', kind = 'count')\n",
    "for ax in chart.axes.ravel():\n",
    "    plt.setp(ax.get_xticklabels(), rotation = 45, horizontalalignment = 'right')\n",
    "plt.show()"
   ]
  },
  {
   "cell_type": "code",
   "execution_count": 14,
   "metadata": {},
   "outputs": [
    {
     "data": {
      "image/png": "[encoded data removed]",
      "text/plain": [
       "<Figure size 432x288 with 1 Axes>"
      ]
     },
     "metadata": {
      "needs_background": "light"
     },
     "output_type": "display_data"
    }
   ],
   "source": [
    "sns.heatmap(df.isnull(), cbar = False)\n",
    "plt.show()"
   ]
  },
  {
   "cell_type": "markdown",
   "metadata": {},
   "source": [
    "<div class=\"alert alert-block alert-info\" align=\"center\">\n",
    "    <h1>\n",
    "        Mapping ratings\n",
    "    </h1>\n",
    "</div>"
   ]
  },
  {
   "cell_type": "code",
   "execution_count": 15,
   "metadata": {},
   "outputs": [],
   "source": [
    "class NormalizedRatings(Enum):\n",
    "    FALSE = 1\n",
    "    MIXTURE = 2\n",
    "    TRUE = 3\n",
    "    OTHER = -1\n",
    "\n",
    "_normalization_dictionary = {  # type: Dict[str, Dict[str,NormalizedRatings]]\n",
    "    \"politifact\": {  # type: Dict[str,NormalizedRatings]\n",
    "        'incorrect': NormalizedRatings.FALSE,\n",
    "        'pants-fire': NormalizedRatings.FALSE,\n",
    "        'pants on fire': NormalizedRatings.FALSE,\n",
    "        'pants on fire!': NormalizedRatings.FALSE,\n",
    "        'false': NormalizedRatings.FALSE,\n",
    "        'mostly correct': NormalizedRatings.MIXTURE,\n",
    "        'mostly false': NormalizedRatings.MIXTURE,\n",
    "        'barely true': NormalizedRatings.MIXTURE,\n",
    "        'half true': NormalizedRatings.MIXTURE,\n",
    "        'half-true': NormalizedRatings.MIXTURE,\n",
    "        'mostly true': NormalizedRatings.MIXTURE,\n",
    "        'true': NormalizedRatings.TRUE,\n",
    "        'correct': NormalizedRatings.TRUE\n",
    "    },\n",
    "    \"snopes\": {  # type: Dict[str,NormalizedRatings]\n",
    "        'false': NormalizedRatings.FALSE,\n",
    "        'legend': NormalizedRatings.FALSE,\n",
    "        'mixture': NormalizedRatings.MIXTURE,\n",
    "        'mixture:': NormalizedRatings.MIXTURE,\n",
    "        'true': NormalizedRatings.TRUE,\n",
    "        'mostly false': NormalizedRatings.MIXTURE,\n",
    "        'mostly true': NormalizedRatings.MIXTURE,\n",
    "        'partly true': NormalizedRatings.MIXTURE,\n",
    "        'MIXTURE OF TRUE AND FALSE INFORMATION': NormalizedRatings.MIXTURE,\n",
    "        'MIXTURE OF TRUE AND FALSE INFORMATION:': NormalizedRatings.MIXTURE,\n",
    "        'MIXTURE OF ACCURATE AND  INACCURATE INFORMATION': NormalizedRatings.MIXTURE\n",
    "    },\n",
    "    \"africacheck\": {  # type: Dict[str,NormalizedRatings]\n",
    "        'incorrect': NormalizedRatings.FALSE,\n",
    "        'mostly-correct': NormalizedRatings.MIXTURE,\n",
    "        'correct': NormalizedRatings.TRUE\n",
    "    },\n",
    "    \"factscan\": {  # type: Dict[str,NormalizedRatings]\n",
    "        'false': NormalizedRatings.FALSE,\n",
    "        'true': NormalizedRatings.TRUE,\n",
    "        'Misleading': NormalizedRatings.OTHER\n",
    "    },\n",
    "    \"truthorfiction\": {  # type: Dict[str,NormalizedRatings]\n",
    "        'fiction': NormalizedRatings.FALSE,\n",
    "        'truth': NormalizedRatings.TRUE,\n",
    "        'truth & fiction': NormalizedRatings.MIXTURE,\n",
    "        'mostly fiction': NormalizedRatings.MIXTURE,\n",
    "        'truth & misleading': NormalizedRatings.MIXTURE,\n",
    "        'mostly truth': NormalizedRatings.MIXTURE\n",
    "    },\n",
    "    \"checkyourfact\": {  # type: Dict[str,NormalizedRatings]\n",
    "        'False': NormalizedRatings.FALSE,\n",
    "        'True': NormalizedRatings.TRUE,\n",
    "        'Mostly True': NormalizedRatings.MIXTURE,\n",
    "        'true/false': NormalizedRatings.MIXTURE,\n",
    "        'truth & misleading': NormalizedRatings.MIXTURE,\n",
    "        'mostly truth': NormalizedRatings.MIXTURE,\n",
    "        'misleading': NormalizedRatings.MIXTURE\n",
    "    },\n",
    "    \"factcheck_aap\": {\n",
    "        \"True\": NormalizedRatings.TRUE,\n",
    "        \"False\": NormalizedRatings.FALSE,\n",
    "        \"Mostly True\": NormalizedRatings.MIXTURE,\n",
    "        \"Mostly False\": NormalizedRatings.MIXTURE,\n",
    "        \"Somewhat True\": NormalizedRatings.MIXTURE,\n",
    "        \"Somewhat False\": NormalizedRatings.MIXTURE\n",
    "    },\n",
    "    \"factuel_afp_fr\": {\n",
    "        'Faux': NormalizedRatings.FALSE,\n",
    "        'Totalement faux': NormalizedRatings.FALSE,\n",
    "        'Démenti': NormalizedRatings.FALSE,\n",
    "        \"C'est une oeuvre de fiction\": NormalizedRatings.FALSE,\n",
    "        'Vrai': NormalizedRatings.TRUE,\n",
    "        'Totalement Vrai': NormalizedRatings.TRUE,\n",
    "        'Plutôt vrai': NormalizedRatings.MIXTURE,\n",
    "        'Trompeur': NormalizedRatings.MIXTURE,\n",
    "        'trompeur': NormalizedRatings.MIXTURE,\n",
    "        'Plutôt faux': NormalizedRatings.MIXTURE,\n",
    "        'Presque': NormalizedRatings.MIXTURE,\n",
    "        'Mélangé': NormalizedRatings.MIXTURE,\n",
    "        'Mélange': NormalizedRatings.MIXTURE,\n",
    "        'Inexact': NormalizedRatings.MIXTURE,\n",
    "        'Incertain': NormalizedRatings.MIXTURE,\n",
    "        'Imprécis': NormalizedRatings.MIXTURE,\n",
    "        'Exagéré': NormalizedRatings.MIXTURE,\n",
    "        'Douteux': NormalizedRatings.MIXTURE,\n",
    "    },\n",
    "    \"factcheck_afp\": {\n",
    "        'False': NormalizedRatings.FALSE,\n",
    "        'Fake': NormalizedRatings.FALSE,\n",
    "        'Mixed': NormalizedRatings.MIXTURE,\n",
    "        'Hoax': NormalizedRatings.FALSE,\n",
    "        'Falso': NormalizedRatings.FALSE,\n",
    "        'APRIL FOOL': NormalizedRatings.FALSE\n",
    "    },\n",
    "    \"fullfact\": {\n",
    "        'Correct': NormalizedRatings.TRUE,\n",
    "        'Incorrect': NormalizedRatings.FALSE,\n",
    "        'Not quite': NormalizedRatings.MIXTURE\n",
    "    }\n",
    "}\n",
    "\n",
    "def _standardize_name(original_name: str):\n",
    "    return original_name.strip().lower().replace(\"!\", \"\").replace(\":\", \"\").replace(\"-\", \" \")\n",
    "\n",
    "def normalize(source_name, original_name) -> NormalizedRatings:\n",
    "    '''\n",
    "    Generate a normalized rating from the original ratings on each respective site\n",
    "    :param original_name:\n",
    "    :return normalized_rating: NormalizedRating\n",
    "    '''\n",
    "    try:\n",
    "        source = _normalization_dictionary[source_name]\n",
    "        normalized_value = source[_standardize_name(original_name)]\n",
    "    except KeyError:\n",
    "        normalized_value = NormalizedRatings.OTHER\n",
    "    return normalized_value"
   ]
  },
  {
   "cell_type": "markdown",
   "metadata": {},
   "source": [
    "<div class=\"alert alert-block alert-info\" align=\"center\">\n",
    "    <h1>\n",
    "        Pre-processing\n",
    "    </h1>\n",
    "</div>"
   ]
  },
  {
   "cell_type": "markdown",
   "metadata": {},
   "source": [
    "# First attemp of pre-processing"
   ]
  },
  {
   "cell_type": "markdown",
   "metadata": {},
   "source": [
    "## Copy of the data frame"
   ]
  },
  {
   "cell_type": "code",
   "execution_count": 16,
   "metadata": {},
   "outputs": [],
   "source": [
    "df1 = df.copy()"
   ]
  },
  {
   "cell_type": "code",
   "execution_count": 17,
   "metadata": {},
   "outputs": [
    {
     "data": {
      "text/html": [
       "<div>\n",
       "<style scoped>\n",
       "    .dataframe tbody tr th:only-of-type {\n",
       "        vertical-align: middle;\n",
       "    }\n",
       "\n",
       "    .dataframe tbody tr th {\n",
       "        vertical-align: top;\n",
       "    }\n",
       "\n",
       "    .dataframe thead th {\n",
       "        text-align: right;\n",
       "    }\n",
       "</style>\n",
       "<table border=\"1\" class=\"dataframe\">\n",
       "  <thead>\n",
       "    <tr style=\"text-align: right;\">\n",
       "      <th></th>\n",
       "      <th>ID</th>\n",
       "      <th>Text</th>\n",
       "      <th>Date</th>\n",
       "      <th>TruthRating</th>\n",
       "      <th>RatingName</th>\n",
       "      <th>Author</th>\n",
       "      <th>Headline</th>\n",
       "      <th>NamedEntitiesClaim</th>\n",
       "      <th>NamedEntitiesArticle</th>\n",
       "      <th>Keywords</th>\n",
       "      <th>Source</th>\n",
       "      <th>SourceURL</th>\n",
       "      <th>Link</th>\n",
       "      <th>Language</th>\n",
       "    </tr>\n",
       "  </thead>\n",
       "  <tbody>\n",
       "    <tr>\n",
       "      <td>2344</td>\n",
       "      <td>http://data.gesis.org/claimskg/claim_review/bf...</td>\n",
       "      <td>A photograph shows Donald Trump, Muhammad Ali,...</td>\n",
       "      <td>Unknown</td>\n",
       "      <td>3</td>\n",
       "      <td>TRUE</td>\n",
       "      <td>Unknown</td>\n",
       "      <td>Did Donald Trump Receive an Ellis Island Award...</td>\n",
       "      <td>2016 presidential campaign,Anita Bryant,Donald...</td>\n",
       "      <td>Donald Trump,Ellis Island,Ellis Island Medal o...</td>\n",
       "      <td>donald trump</td>\n",
       "      <td>snopes</td>\n",
       "      <td>http://www.snopes.com</td>\n",
       "      <td>https://www.snopes.com/fact-check/trump-receiv...</td>\n",
       "      <td>English</td>\n",
       "    </tr>\n",
       "    <tr>\n",
       "      <td>8582</td>\n",
       "      <td>http://data.gesis.org/claimskg/claim_review/fc...</td>\n",
       "      <td>State budget cuts for local schools resulted i...</td>\n",
       "      <td>2011-11-15</td>\n",
       "      <td>1</td>\n",
       "      <td>FALSE</td>\n",
       "      <td>Wisconsin Education Association Council</td>\n",
       "      <td>WEAC says state budget cuts led to nearly 4,00...</td>\n",
       "      <td>Capital Times,Marquette University,Mathiowetz,...</td>\n",
       "      <td>NaN</td>\n",
       "      <td>Education,State Budget</td>\n",
       "      <td>politifact</td>\n",
       "      <td>http://www.politifact.com</td>\n",
       "      <td>http://www.politifact.com/wisconsin/statements...</td>\n",
       "      <td>English</td>\n",
       "    </tr>\n",
       "    <tr>\n",
       "      <td>6987</td>\n",
       "      <td>http://data.gesis.org/claimskg/claim_review/10...</td>\n",
       "      <td>Says the House Rules Committee is the only pan...</td>\n",
       "      <td>2010-11-05</td>\n",
       "      <td>3</td>\n",
       "      <td>TRUE</td>\n",
       "      <td>John Boehner</td>\n",
       "      <td>Transparency pledge sparks call for cameras in...</td>\n",
       "      <td>Brian Lamb,C-SPAN,David Dreier,Democrat,House ...</td>\n",
       "      <td>House Rules Committee</td>\n",
       "      <td>Government Efficiency,Transparency</td>\n",
       "      <td>politifact</td>\n",
       "      <td>http://www.politifact.com</td>\n",
       "      <td>http://www.politifact.com/ohio/statements/2010...</td>\n",
       "      <td>English</td>\n",
       "    </tr>\n",
       "    <tr>\n",
       "      <td>5790</td>\n",
       "      <td>http://data.gesis.org/claimskg/claim_review/19...</td>\n",
       "      <td>Nevada has been recently ranked No. 1 in 'unem...</td>\n",
       "      <td>2011-12-08</td>\n",
       "      <td>3</td>\n",
       "      <td>TRUE</td>\n",
       "      <td>Florida Chamber of Commerce</td>\n",
       "      <td>Nevada is No. 1 in unemployment, divorce and v...</td>\n",
       "      <td>Adam Putnam,American Community Survey,Bureau o...</td>\n",
       "      <td>personal bankruptcy</td>\n",
       "      <td>Gambling</td>\n",
       "      <td>politifact</td>\n",
       "      <td>http://www.politifact.com</td>\n",
       "      <td>http://www.politifact.com/florida/statements/2...</td>\n",
       "      <td>English</td>\n",
       "    </tr>\n",
       "    <tr>\n",
       "      <td>4050</td>\n",
       "      <td>http://data.gesis.org/claimskg/claim_review/d1...</td>\n",
       "      <td>Viral Image Questions Kamala Harris’ Racial Ba...</td>\n",
       "      <td>Unknown</td>\n",
       "      <td>-1</td>\n",
       "      <td>OTHER</td>\n",
       "      <td>Unknown</td>\n",
       "      <td>Viral Image Questions Kamala Harris’ Racial Ba...</td>\n",
       "      <td>Donald Harris,Facebook,India,Jamaica,Kamala Ha...</td>\n",
       "      <td>Kamala Harris</td>\n",
       "      <td>NaN</td>\n",
       "      <td>checkyourfact</td>\n",
       "      <td>http://checkyourfact.com</td>\n",
       "      <td>https://checkyourfact.com/2019/07/12/fact-chec...</td>\n",
       "      <td>English</td>\n",
       "    </tr>\n",
       "  </tbody>\n",
       "</table>\n",
       "</div>"
      ],
      "text/plain": [
       "                                                     ID  \\\n",
       "2344  http://data.gesis.org/claimskg/claim_review/bf...   \n",
       "8582  http://data.gesis.org/claimskg/claim_review/fc...   \n",
       "6987  http://data.gesis.org/claimskg/claim_review/10...   \n",
       "5790  http://data.gesis.org/claimskg/claim_review/19...   \n",
       "4050  http://data.gesis.org/claimskg/claim_review/d1...   \n",
       "\n",
       "                                                   Text        Date  \\\n",
       "2344  A photograph shows Donald Trump, Muhammad Ali,...     Unknown   \n",
       "8582  State budget cuts for local schools resulted i...  2011-11-15   \n",
       "6987  Says the House Rules Committee is the only pan...  2010-11-05   \n",
       "5790  Nevada has been recently ranked No. 1 in 'unem...  2011-12-08   \n",
       "4050  Viral Image Questions Kamala Harris’ Racial Ba...     Unknown   \n",
       "\n",
       "      TruthRating RatingName                                   Author  \\\n",
       "2344            3       TRUE                                  Unknown   \n",
       "8582            1      FALSE  Wisconsin Education Association Council   \n",
       "6987            3       TRUE                             John Boehner   \n",
       "5790            3       TRUE              Florida Chamber of Commerce   \n",
       "4050           -1      OTHER                                  Unknown   \n",
       "\n",
       "                                               Headline  \\\n",
       "2344  Did Donald Trump Receive an Ellis Island Award...   \n",
       "8582  WEAC says state budget cuts led to nearly 4,00...   \n",
       "6987  Transparency pledge sparks call for cameras in...   \n",
       "5790  Nevada is No. 1 in unemployment, divorce and v...   \n",
       "4050  Viral Image Questions Kamala Harris’ Racial Ba...   \n",
       "\n",
       "                                     NamedEntitiesClaim  \\\n",
       "2344  2016 presidential campaign,Anita Bryant,Donald...   \n",
       "8582  Capital Times,Marquette University,Mathiowetz,...   \n",
       "6987  Brian Lamb,C-SPAN,David Dreier,Democrat,House ...   \n",
       "5790  Adam Putnam,American Community Survey,Bureau o...   \n",
       "4050  Donald Harris,Facebook,India,Jamaica,Kamala Ha...   \n",
       "\n",
       "                                   NamedEntitiesArticle  \\\n",
       "2344  Donald Trump,Ellis Island,Ellis Island Medal o...   \n",
       "8582                                                NaN   \n",
       "6987                              House Rules Committee   \n",
       "5790                                personal bankruptcy   \n",
       "4050                                      Kamala Harris   \n",
       "\n",
       "                                Keywords         Source  \\\n",
       "2344                        donald trump         snopes   \n",
       "8582              Education,State Budget     politifact   \n",
       "6987  Government Efficiency,Transparency     politifact   \n",
       "5790                            Gambling     politifact   \n",
       "4050                                 NaN  checkyourfact   \n",
       "\n",
       "                      SourceURL  \\\n",
       "2344      http://www.snopes.com   \n",
       "8582  http://www.politifact.com   \n",
       "6987  http://www.politifact.com   \n",
       "5790  http://www.politifact.com   \n",
       "4050   http://checkyourfact.com   \n",
       "\n",
       "                                                   Link Language  \n",
       "2344  https://www.snopes.com/fact-check/trump-receiv...  English  \n",
       "8582  http://www.politifact.com/wisconsin/statements...  English  \n",
       "6987  http://www.politifact.com/ohio/statements/2010...  English  \n",
       "5790  http://www.politifact.com/florida/statements/2...  English  \n",
       "4050  https://checkyourfact.com/2019/07/12/fact-chec...  English  "
      ]
     },
     "metadata": {},
     "output_type": "display_data"
    }
   ],
   "source": [
    "display(df1.sample(5))"
   ]
  },
  {
   "cell_type": "markdown",
   "metadata": {},
   "source": [
    "## Removing columns that contain NaN"
   ]
  },
  {
   "cell_type": "code",
   "execution_count": 18,
   "metadata": {},
   "outputs": [],
   "source": [
    "df1 = df1.drop(['Headline', 'NamedEntitiesClaim', 'NamedEntitiesArticle', 'Keywords'], axis = 1)"
   ]
  },
  {
   "cell_type": "code",
   "execution_count": 19,
   "metadata": {
    "scrolled": false
   },
   "outputs": [
    {
     "data": {
      "text/html": [
       "<div>\n",
       "<style scoped>\n",
       "    .dataframe tbody tr th:only-of-type {\n",
       "        vertical-align: middle;\n",
       "    }\n",
       "\n",
       "    .dataframe tbody tr th {\n",
       "        vertical-align: top;\n",
       "    }\n",
       "\n",
       "    .dataframe thead th {\n",
       "        text-align: right;\n",
       "    }\n",
       "</style>\n",
       "<table border=\"1\" class=\"dataframe\">\n",
       "  <thead>\n",
       "    <tr style=\"text-align: right;\">\n",
       "      <th></th>\n",
       "      <th>ID</th>\n",
       "      <th>Text</th>\n",
       "      <th>Date</th>\n",
       "      <th>TruthRating</th>\n",
       "      <th>RatingName</th>\n",
       "      <th>Author</th>\n",
       "      <th>Source</th>\n",
       "      <th>SourceURL</th>\n",
       "      <th>Link</th>\n",
       "      <th>Language</th>\n",
       "    </tr>\n",
       "  </thead>\n",
       "  <tbody>\n",
       "    <tr>\n",
       "      <td>6499</td>\n",
       "      <td>http://data.gesis.org/claimskg/claim_review/6a...</td>\n",
       "      <td>A photograph shows a 'graveyard' of guitars co...</td>\n",
       "      <td>Unknown</td>\n",
       "      <td>-1</td>\n",
       "      <td>OTHER</td>\n",
       "      <td>Unknown</td>\n",
       "      <td>snopes</td>\n",
       "      <td>http://www.snopes.com</td>\n",
       "      <td>https://www.snopes.com/fact-check/guitar-grave...</td>\n",
       "      <td>English</td>\n",
       "    </tr>\n",
       "    <tr>\n",
       "      <td>2359</td>\n",
       "      <td>http://data.gesis.org/claimskg/claim_review/46...</td>\n",
       "      <td>The 2011 Rebuild America Jobs Act 'would have ...</td>\n",
       "      <td>2014-07-09</td>\n",
       "      <td>1</td>\n",
       "      <td>FALSE</td>\n",
       "      <td>Monica Wehby</td>\n",
       "      <td>politifact</td>\n",
       "      <td>http://www.politifact.com</td>\n",
       "      <td>http://www.politifact.com/oregon/statements/20...</td>\n",
       "      <td>English</td>\n",
       "    </tr>\n",
       "    <tr>\n",
       "      <td>3433</td>\n",
       "      <td>http://data.gesis.org/claimskg/claim_review/f9...</td>\n",
       "      <td>'The state budget has actually grown by $4.6 b...</td>\n",
       "      <td>2013-11-05</td>\n",
       "      <td>2</td>\n",
       "      <td>MIXTURE</td>\n",
       "      <td>Mary Burke</td>\n",
       "      <td>politifact</td>\n",
       "      <td>http://www.politifact.com</td>\n",
       "      <td>http://www.politifact.com/wisconsin/statements...</td>\n",
       "      <td>English</td>\n",
       "    </tr>\n",
       "    <tr>\n",
       "      <td>7117</td>\n",
       "      <td>http://data.gesis.org/claimskg/claim_review/c9...</td>\n",
       "      <td>'A married couple that' use the same last name...</td>\n",
       "      <td>2015-02-02</td>\n",
       "      <td>2</td>\n",
       "      <td>MIXTURE</td>\n",
       "      <td>Rush Limbaugh</td>\n",
       "      <td>politifact</td>\n",
       "      <td>http://www.politifact.com</td>\n",
       "      <td>http://www.politifact.com/wisconsin/statements...</td>\n",
       "      <td>English</td>\n",
       "    </tr>\n",
       "    <tr>\n",
       "      <td>4646</td>\n",
       "      <td>http://data.gesis.org/claimskg/claim_review/b6...</td>\n",
       "      <td>Says 'Rep. Jim Weidner proposed a bill taking ...</td>\n",
       "      <td>2010-09-30</td>\n",
       "      <td>3</td>\n",
       "      <td>TRUE</td>\n",
       "      <td>Blue Oregon</td>\n",
       "      <td>politifact</td>\n",
       "      <td>http://www.politifact.com</td>\n",
       "      <td>http://www.politifact.com/oregon/statements/20...</td>\n",
       "      <td>English</td>\n",
       "    </tr>\n",
       "  </tbody>\n",
       "</table>\n",
       "</div>"
      ],
      "text/plain": [
       "                                                     ID  \\\n",
       "6499  http://data.gesis.org/claimskg/claim_review/6a...   \n",
       "2359  http://data.gesis.org/claimskg/claim_review/46...   \n",
       "3433  http://data.gesis.org/claimskg/claim_review/f9...   \n",
       "7117  http://data.gesis.org/claimskg/claim_review/c9...   \n",
       "4646  http://data.gesis.org/claimskg/claim_review/b6...   \n",
       "\n",
       "                                                   Text        Date  \\\n",
       "6499  A photograph shows a 'graveyard' of guitars co...     Unknown   \n",
       "2359  The 2011 Rebuild America Jobs Act 'would have ...  2014-07-09   \n",
       "3433  'The state budget has actually grown by $4.6 b...  2013-11-05   \n",
       "7117  'A married couple that' use the same last name...  2015-02-02   \n",
       "4646  Says 'Rep. Jim Weidner proposed a bill taking ...  2010-09-30   \n",
       "\n",
       "      TruthRating RatingName         Author      Source  \\\n",
       "6499           -1      OTHER        Unknown      snopes   \n",
       "2359            1      FALSE   Monica Wehby  politifact   \n",
       "3433            2    MIXTURE     Mary Burke  politifact   \n",
       "7117            2    MIXTURE  Rush Limbaugh  politifact   \n",
       "4646            3       TRUE    Blue Oregon  politifact   \n",
       "\n",
       "                      SourceURL  \\\n",
       "6499      http://www.snopes.com   \n",
       "2359  http://www.politifact.com   \n",
       "3433  http://www.politifact.com   \n",
       "7117  http://www.politifact.com   \n",
       "4646  http://www.politifact.com   \n",
       "\n",
       "                                                   Link Language  \n",
       "6499  https://www.snopes.com/fact-check/guitar-grave...  English  \n",
       "2359  http://www.politifact.com/oregon/statements/20...  English  \n",
       "3433  http://www.politifact.com/wisconsin/statements...  English  \n",
       "7117  http://www.politifact.com/wisconsin/statements...  English  \n",
       "4646  http://www.politifact.com/oregon/statements/20...  English  "
      ]
     },
     "metadata": {},
     "output_type": "display_data"
    }
   ],
   "source": [
    "display(df1.sample(5))"
   ]
  },
  {
   "cell_type": "markdown",
   "metadata": {},
   "source": [
    "## Remove unnecessary columns"
   ]
  },
  {
   "cell_type": "code",
   "execution_count": 20,
   "metadata": {},
   "outputs": [],
   "source": [
    "df1 = df1.drop(['ID', 'Date', 'TruthRating', 'SourceURL', 'Link', 'Language'], axis = 1)"
   ]
  },
  {
   "cell_type": "code",
   "execution_count": 21,
   "metadata": {},
   "outputs": [
    {
     "data": {
      "text/html": [
       "<div>\n",
       "<style scoped>\n",
       "    .dataframe tbody tr th:only-of-type {\n",
       "        vertical-align: middle;\n",
       "    }\n",
       "\n",
       "    .dataframe tbody tr th {\n",
       "        vertical-align: top;\n",
       "    }\n",
       "\n",
       "    .dataframe thead th {\n",
       "        text-align: right;\n",
       "    }\n",
       "</style>\n",
       "<table border=\"1\" class=\"dataframe\">\n",
       "  <thead>\n",
       "    <tr style=\"text-align: right;\">\n",
       "      <th></th>\n",
       "      <th>Text</th>\n",
       "      <th>RatingName</th>\n",
       "      <th>Author</th>\n",
       "      <th>Source</th>\n",
       "    </tr>\n",
       "  </thead>\n",
       "  <tbody>\n",
       "    <tr>\n",
       "      <td>9429</td>\n",
       "      <td>'No other public or private business in Americ...</td>\n",
       "      <td>MIXTURE</td>\n",
       "      <td>Sanford Bishop</td>\n",
       "      <td>politifact</td>\n",
       "    </tr>\n",
       "    <tr>\n",
       "      <td>8657</td>\n",
       "      <td>An independent payment advisory board created ...</td>\n",
       "      <td>FALSE</td>\n",
       "      <td>60 Plus Association</td>\n",
       "      <td>politifact</td>\n",
       "    </tr>\n",
       "    <tr>\n",
       "      <td>8201</td>\n",
       "      <td>Wet footprints behind the sofa prove that a te...</td>\n",
       "      <td>FALSE</td>\n",
       "      <td>Unknown</td>\n",
       "      <td>snopes</td>\n",
       "    </tr>\n",
       "    <tr>\n",
       "      <td>9676</td>\n",
       "      <td>President Calvin Coolidge’s son was killed by ...</td>\n",
       "      <td>FALSE</td>\n",
       "      <td>Unknown</td>\n",
       "      <td>snopes</td>\n",
       "    </tr>\n",
       "    <tr>\n",
       "      <td>4727</td>\n",
       "      <td>'Several elected state officials have opened t...</td>\n",
       "      <td>TRUE</td>\n",
       "      <td>Dan Patrick</td>\n",
       "      <td>politifact</td>\n",
       "    </tr>\n",
       "  </tbody>\n",
       "</table>\n",
       "</div>"
      ],
      "text/plain": [
       "                                                   Text RatingName  \\\n",
       "9429  'No other public or private business in Americ...    MIXTURE   \n",
       "8657  An independent payment advisory board created ...      FALSE   \n",
       "8201  Wet footprints behind the sofa prove that a te...      FALSE   \n",
       "9676  President Calvin Coolidge’s son was killed by ...      FALSE   \n",
       "4727  'Several elected state officials have opened t...       TRUE   \n",
       "\n",
       "                   Author      Source  \n",
       "9429       Sanford Bishop  politifact  \n",
       "8657  60 Plus Association  politifact  \n",
       "8201              Unknown      snopes  \n",
       "9676              Unknown      snopes  \n",
       "4727          Dan Patrick  politifact  "
      ]
     },
     "metadata": {},
     "output_type": "display_data"
    }
   ],
   "source": [
    "display(df1.sample(5))"
   ]
  },
  {
   "cell_type": "markdown",
   "metadata": {},
   "source": [
    "## Transform categorical attributes into numeric value"
   ]
  },
  {
   "cell_type": "code",
   "execution_count": 22,
   "metadata": {},
   "outputs": [],
   "source": [
    "classLabelEncoder = LabelEncoder()\n",
    "\n",
    "df1[\"Text\"]=classLabelEncoder.fit_transform(df1[\"Text\"])\n",
    "df1[\"RatingName\"]=classLabelEncoder.fit_transform(df1[\"RatingName\"])\n",
    "df1[\"Author\"]=classLabelEncoder.fit_transform(df1[\"Author\"])\n",
    "df1[\"Source\"]=classLabelEncoder.fit_transform(df1[\"Source\"])\n",
    "# oneHotEncoder\n",
    "# tf idf"
   ]
  },
  {
   "cell_type": "code",
   "execution_count": 23,
   "metadata": {},
   "outputs": [
    {
     "data": {
      "text/html": [
       "<div>\n",
       "<style scoped>\n",
       "    .dataframe tbody tr th:only-of-type {\n",
       "        vertical-align: middle;\n",
       "    }\n",
       "\n",
       "    .dataframe tbody tr th {\n",
       "        vertical-align: top;\n",
       "    }\n",
       "\n",
       "    .dataframe thead th {\n",
       "        text-align: right;\n",
       "    }\n",
       "</style>\n",
       "<table border=\"1\" class=\"dataframe\">\n",
       "  <thead>\n",
       "    <tr style=\"text-align: right;\">\n",
       "      <th></th>\n",
       "      <th>Text</th>\n",
       "      <th>RatingName</th>\n",
       "      <th>Author</th>\n",
       "      <th>Source</th>\n",
       "    </tr>\n",
       "  </thead>\n",
       "  <tbody>\n",
       "    <tr>\n",
       "      <td>320</td>\n",
       "      <td>5424</td>\n",
       "      <td>0</td>\n",
       "      <td>158</td>\n",
       "      <td>6</td>\n",
       "    </tr>\n",
       "    <tr>\n",
       "      <td>5898</td>\n",
       "      <td>6276</td>\n",
       "      <td>2</td>\n",
       "      <td>1898</td>\n",
       "      <td>8</td>\n",
       "    </tr>\n",
       "    <tr>\n",
       "      <td>4247</td>\n",
       "      <td>2526</td>\n",
       "      <td>0</td>\n",
       "      <td>1898</td>\n",
       "      <td>7</td>\n",
       "    </tr>\n",
       "    <tr>\n",
       "      <td>8804</td>\n",
       "      <td>6714</td>\n",
       "      <td>3</td>\n",
       "      <td>1898</td>\n",
       "      <td>8</td>\n",
       "    </tr>\n",
       "    <tr>\n",
       "      <td>9866</td>\n",
       "      <td>5198</td>\n",
       "      <td>1</td>\n",
       "      <td>1898</td>\n",
       "      <td>7</td>\n",
       "    </tr>\n",
       "  </tbody>\n",
       "</table>\n",
       "</div>"
      ],
      "text/plain": [
       "      Text  RatingName  Author  Source\n",
       "320   5424           0     158       6\n",
       "5898  6276           2    1898       8\n",
       "4247  2526           0    1898       7\n",
       "8804  6714           3    1898       8\n",
       "9866  5198           1    1898       7"
      ]
     },
     "metadata": {},
     "output_type": "display_data"
    }
   ],
   "source": [
    "display(df1.sample(5))"
   ]
  },
  {
   "cell_type": "markdown",
   "metadata": {},
   "source": [
    "## Saving the transformed data"
   ]
  },
  {
   "cell_type": "code",
   "execution_count": 24,
   "metadata": {},
   "outputs": [],
   "source": [
    "df1.to_csv('datasets/attemp1.csv', sep = ';', index = False)"
   ]
  },
  {
   "cell_type": "markdown",
   "metadata": {},
   "source": [
    "<div class=\"alert alert-block alert-info\" align=\"center\">\n",
    "    <h1>\n",
    "        Classification\n",
    "    </h1>\n",
    "</div>"
   ]
  },
  {
   "cell_type": "markdown",
   "metadata": {},
   "source": [
    "<div align=\"center\">\n",
    "    <h1>\n",
    "        Preparing data for classification\n",
    "    </h1>\n",
    "</div>"
   ]
  },
  {
   "cell_type": "markdown",
   "metadata": {},
   "source": [
    "## Reading the transformed data for the classification"
   ]
  },
  {
   "cell_type": "code",
   "execution_count": 25,
   "metadata": {},
   "outputs": [
    {
     "data": {
      "text/html": [
       "<div>\n",
       "<style scoped>\n",
       "    .dataframe tbody tr th:only-of-type {\n",
       "        vertical-align: middle;\n",
       "    }\n",
       "\n",
       "    .dataframe tbody tr th {\n",
       "        vertical-align: top;\n",
       "    }\n",
       "\n",
       "    .dataframe thead th {\n",
       "        text-align: right;\n",
       "    }\n",
       "</style>\n",
       "<table border=\"1\" class=\"dataframe\">\n",
       "  <thead>\n",
       "    <tr style=\"text-align: right;\">\n",
       "      <th></th>\n",
       "      <th>Text</th>\n",
       "      <th>RatingName</th>\n",
       "      <th>Author</th>\n",
       "      <th>Source</th>\n",
       "    </tr>\n",
       "  </thead>\n",
       "  <tbody>\n",
       "    <tr>\n",
       "      <td>0</td>\n",
       "      <td>5663</td>\n",
       "      <td>2</td>\n",
       "      <td>1898</td>\n",
       "      <td>8</td>\n",
       "    </tr>\n",
       "    <tr>\n",
       "      <td>1</td>\n",
       "      <td>4955</td>\n",
       "      <td>2</td>\n",
       "      <td>1898</td>\n",
       "      <td>7</td>\n",
       "    </tr>\n",
       "    <tr>\n",
       "      <td>2</td>\n",
       "      <td>198</td>\n",
       "      <td>1</td>\n",
       "      <td>867</td>\n",
       "      <td>6</td>\n",
       "    </tr>\n",
       "    <tr>\n",
       "      <td>3</td>\n",
       "      <td>4944</td>\n",
       "      <td>1</td>\n",
       "      <td>714</td>\n",
       "      <td>6</td>\n",
       "    </tr>\n",
       "    <tr>\n",
       "      <td>4</td>\n",
       "      <td>8496</td>\n",
       "      <td>0</td>\n",
       "      <td>1898</td>\n",
       "      <td>7</td>\n",
       "    </tr>\n",
       "  </tbody>\n",
       "</table>\n",
       "</div>"
      ],
      "text/plain": [
       "   Text  RatingName  Author  Source\n",
       "0  5663           2    1898       8\n",
       "1  4955           2    1898       7\n",
       "2   198           1     867       6\n",
       "3  4944           1     714       6\n",
       "4  8496           0    1898       7"
      ]
     },
     "execution_count": 25,
     "metadata": {},
     "output_type": "execute_result"
    }
   ],
   "source": [
    "df1C = pd.read_csv('datasets/attemp1.csv', sep = ';')\n",
    "df1C.head()"
   ]
  },
  {
   "cell_type": "markdown",
   "metadata": {},
   "source": [
    "## Define the learning variables and the variable to predict"
   ]
  },
  {
   "cell_type": "code",
   "execution_count": 26,
   "metadata": {},
   "outputs": [],
   "source": [
    "array = df1C.values\n",
    "X = array[:,[0,2,3]]\n",
    "y = array[:,1]"
   ]
  },
  {
   "cell_type": "markdown",
   "metadata": {},
   "source": [
    "## Cut the data set into a test set and a learning set"
   ]
  },
  {
   "cell_type": "code",
   "execution_count": 27,
   "metadata": {},
   "outputs": [],
   "source": [
    "myTrainSize = 0.3 # 30% du jeu de données pour le test\n",
    "myTestSize = 1 - myTrainSize # 70% du jeu de données pour l'entraînement\n",
    "seed = 30\n",
    "\n",
    "X_train, X_test, y_train, y_test = train_test_split(X, y, train_size = myTrainSize, random_state = seed, test_size = myTestSize)"
   ]
  },
  {
   "cell_type": "markdown",
   "metadata": {},
   "source": [
    "<div align=\"center\">\n",
    "    <h1>\n",
    "        Testing the first classifier\n",
    "    </h1>\n",
    "</div>"
   ]
  },
  {
   "cell_type": "markdown",
   "metadata": {},
   "source": [
    "## GaussianNB classifier"
   ]
  },
  {
   "cell_type": "code",
   "execution_count": 28,
   "metadata": {},
   "outputs": [
    {
     "name": "stdout",
     "output_type": "stream",
     "text": [
      "accuracy : 0.5455714285714286\n"
     ]
    }
   ],
   "source": [
    "clfGaussianNB = GaussianNB()\n",
    "\n",
    "clfGaussianNB.fit(X_train, y_train)\n",
    "\n",
    "resultGaussianNB = clfGaussianNB.predict(X_test)\n",
    "\n",
    "print(f'accuracy : {accuracy_score(resultGaussianNB, y_test)}')"
   ]
  },
  {
   "cell_type": "markdown",
   "metadata": {},
   "source": [
    "## Display the confusion matrix and the classification report"
   ]
  },
  {
   "cell_type": "code",
   "execution_count": 29,
   "metadata": {},
   "outputs": [
    {
     "name": "stdout",
     "output_type": "stream",
     "text": [
      "Matrice de confusion :\n",
      "[[1512 1015   65    2]\n",
      " [ 439 1840    0    0]\n",
      " [ 689   59  464   13]\n",
      " [ 385  486   28    3]]\n",
      "Classification report :\n",
      "              precision    recall  f1-score   support\n",
      "\n",
      "           0       0.50      0.58      0.54      2594\n",
      "           1       0.54      0.81      0.65      2279\n",
      "           2       0.83      0.38      0.52      1225\n",
      "           3       0.17      0.00      0.01       902\n",
      "\n",
      "    accuracy                           0.55      7000\n",
      "   macro avg       0.51      0.44      0.43      7000\n",
      "weighted avg       0.53      0.55      0.50      7000\n",
      "\n"
     ]
    }
   ],
   "source": [
    "print (f'Matrice de confusion :\\n{confusion_matrix(y_test, resultGaussianNB)}')\n",
    "print (f'Classification report :\\n{classification_report(y_test, resultGaussianNB)}')"
   ]
  },
  {
   "cell_type": "markdown",
   "metadata": {},
   "source": [
    "## Cross validate with 10 splits (Kfold)"
   ]
  },
  {
   "cell_type": "code",
   "execution_count": 30,
   "metadata": {},
   "outputs": [],
   "source": [
    "seed = 7\n",
    "myKFold = KFold(n_splits = 10, shuffle = True, random_state = seed)"
   ]
  },
  {
   "cell_type": "markdown",
   "metadata": {},
   "source": [
    "## Apply the GaussianNB classifier and give the different accuracy for the 10 evaluations"
   ]
  },
  {
   "cell_type": "code",
   "execution_count": 31,
   "metadata": {},
   "outputs": [
    {
     "name": "stdout",
     "output_type": "stream",
     "text": [
      "Les différentes accuracy pour les 10 évaluations sont :\n",
      "[0.568 0.534 0.537 0.556 0.533 0.526 0.559 0.546 0.539 0.555]\n",
      "Accuracy moyenne : 0.5452999999999999 | Standard deviation : 0.012930970574554711\n"
     ]
    }
   ],
   "source": [
    "clfGaussianNB = GaussianNB()\n",
    "\n",
    "myScoring = 'accuracy'\n",
    "\n",
    "score = cross_val_score(clfGaussianNB, X, y, cv = myKFold, scoring = myScoring)\n",
    "\n",
    "print(f'Les différentes accuracy pour les 10 évaluations sont :\\n{score}')\n",
    "print(f'Accuracy moyenne : {score.mean()} | Standard deviation : {score.std()}')"
   ]
  },
  {
   "cell_type": "markdown",
   "metadata": {},
   "source": [
    "<div align=\"center\">\n",
    "    <h1>\n",
    "        Testing several classifiers\n",
    "    </h1>\n",
    "</div>"
   ]
  },
  {
   "cell_type": "code",
   "execution_count": 32,
   "metadata": {},
   "outputs": [],
   "source": [
    "seed = 7\n",
    "myScoring = 'accuracy'\n",
    "models = []\n",
    "\n",
    "models.append(('KNN', KNeighborsClassifier()))\n",
    "models.append(('CART', DecisionTreeClassifier()))\n",
    "models.append(('NB', GaussianNB()))\n",
    "models.append(('SVM', SVC(gamma = 'auto')))\n",
    "models.append(('RFO', RandomForestClassifier()))"
   ]
  },
  {
   "cell_type": "code",
   "execution_count": 33,
   "metadata": {},
   "outputs": [
    {
     "name": "stdout",
     "output_type": "stream",
     "text": [
      "KNN : 0.4787 | 0.017652478579508312\n",
      "CART : 0.47380000000000005 | 0.020865282169191958\n",
      "NB : 0.5448999999999999 | 0.015552813250341538\n",
      "SVM : 0.47300000000000003 | 0.016583123951776992\n",
      "RFO : 0.4913 | 0.016297545827516493\n"
     ]
    }
   ],
   "source": [
    "scores = []\n",
    "names = []\n",
    "\n",
    "for name, model in models:\n",
    "    myKFold = KFold(n_splits = 10, random_state = seed)\n",
    "    score = cross_val_score(model, X, y, cv = myKFold, scoring = myScoring)\n",
    "    scores.append(score)\n",
    "    names.append(name)\n",
    "    print(f'{name} : {score.mean()} | {score.std()}')"
   ]
  },
  {
   "cell_type": "markdown",
   "metadata": {},
   "source": [
    "## Displaying results of the different classifiers"
   ]
  },
  {
   "cell_type": "code",
   "execution_count": 34,
   "metadata": {},
   "outputs": [
    {
     "data": {
      "image/png": "[encoded data removed]",
      "text/plain": [
       "<Figure size 432x288 with 1 Axes>"
      ]
     },
     "metadata": {
      "needs_background": "light"
     },
     "output_type": "display_data"
    }
   ],
   "source": [
    "fig = plt.figure()\n",
    "fig.suptitle('Comparaison des algorithmes')\n",
    "ax = fig.add_subplot(111)\n",
    "plt.boxplot(scores)\n",
    "ax.set_xticklabels(names)\n",
    "plt.show()"
   ]
  }
 ],
 "metadata": {
  "kernelspec": {
   "display_name": "Python 3",
   "language": "python",
   "name": "python3"
  },
  "language_info": {
   "codemirror_mode": {
    "name": "ipython",
    "version": 3
   },
   "file_extension": ".py",
   "mimetype": "text/x-python",
   "name": "python",
   "nbconvert_exporter": "python",
   "pygments_lexer": "ipython3",
   "version": "3.7.4"
  }
 },
 "nbformat": 4,
 "nbformat_minor": 2
}
