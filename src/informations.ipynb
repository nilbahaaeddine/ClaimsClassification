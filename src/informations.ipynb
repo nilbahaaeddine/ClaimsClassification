{
 "cells": [
  {
   "cell_type": "markdown",
   "metadata": {},
   "source": [
    "<div align=\"center\"><h1> Projet Data Science </h1></div>\n",
    "<div align=\"center\"><h2> Classification d'assertions selon leur valeurs de véracité ( automatic fact-checking ) </h2></div>\n",
    "<h3>Membre du groupe</h3>\n",
    "<ul>\n",
    "    <li>Meriem AMERAOUI</li>\n",
    "    <li>Dounia BELABIOD</li>\n",
    "    <li>Jihene BOUHLEL</li>\n",
    "    <li>Bahaa Eddine NIL</li>\n",
    "</ul>"
   ]
  },
  {
   "cell_type": "markdown",
   "metadata": {},
   "source": [
    "<div class=\"alert alert-block alert-info\" align=\"center\">\n",
    "    <h1>\n",
    "        Executing the basic\n",
    "    </h1>\n",
    "</div>"
   ]
  },
  {
   "cell_type": "code",
   "execution_count": null,
   "metadata": {},
   "outputs": [],
   "source": [
    "import pandas as pd\n",
    "import seaborn as sns\n",
    "import matplotlib.pyplot as plt\n",
    "\n",
    "# Reding data\n",
    "def read_data(*args, **kwargs):\n",
    "    data = kwargs.get(\"data\", 'test')\n",
    "    number = kwargs.get(\"number\", 1000)\n",
    "    labels = [\"ID\", \"Text\", \"Date\", \"TruthRating\", \"RatingName\", \"Author\", \"Headline\", \n",
    "              \"NamedEntitiesClaim\", \"NamedEntitiesArticle\", \"Keywords\", \"Source\", \"SourceURL\", \"Link\", \"Language\"]\n",
    "    \n",
    "    if(data not in ['all', 'polsno', 'test']):\n",
    "        print('Please selecte somthing in [\\'all\\', \\'polsno\\', \\'test\\']')\n",
    "    else:\n",
    "        test = pd.read_csv('datasets/test.csv', sep = ',', names = labels, skiprows = 1)\n",
    "        pol1 = pd.read_csv('datasets/pol1.csv', sep = ',', names = labels, skiprows = 1)\n",
    "        pol2 = pd.read_csv('datasets/pol2.csv', sep = ',', names = labels, skiprows = 1)\n",
    "        sno1 = pd.read_csv('datasets/sno1.csv', sep = ',', names = labels, skiprows = 1)\n",
    "        sno2 = pd.read_csv('datasets/sno2.csv', sep = ',', names = labels, skiprows = 1)\n",
    "        reste = pd.read_csv('datasets/reste.csv', sep = ',', names = labels, skiprows = 1)\n",
    "\n",
    "        pol = pol1.append(pol2, sort = False).reset_index(drop = True)\n",
    "        sno = sno1.append(sno2, sort = False).reset_index(drop = True)\n",
    "        polsno = pol.append(sno, sort = False).reset_index(drop = True)\n",
    "        everything = polsno.append(reste, sort = False).reset_index(drop = True)\n",
    "        \n",
    "        if(data == 'polsno'):\n",
    "            if(number > polsno.shape[0]):\n",
    "                print(f'Not enough data !\\nReading only {polsno.shape[0]} claims')\n",
    "                number = polsno.shape[0]\n",
    "            else:\n",
    "                print(f'Reading successfully {number} claims')\n",
    "            df_func = polsno.sample(n = number).reset_index(drop = True)\n",
    "\n",
    "        if(data == 'all'):\n",
    "            if(number > everything.shape[0]):\n",
    "                print(f'Not enough data !\\nReading only {everything.shape[0]} claims')\n",
    "                number = everything.shape[0]\n",
    "            else:\n",
    "                print(f'Reading successfully {number} claims')\n",
    "            df_func = everything.sample(n = number).reset_index(drop = True)\n",
    "\n",
    "        if(data == 'test'):\n",
    "            if(number > test.shape[0]):\n",
    "                print(f'Not enough data !\\nReading only {test.shape[0]} claims')\n",
    "                number = test.shape[0]\n",
    "            else:\n",
    "                print(f'Reading successfully {number} claims')\n",
    "            df_func = test[:number]\n",
    "            #df_func = test.sample(n = number).reset_index(drop = True)\n",
    "        \n",
    "        for column in df_func.columns:\n",
    "            if(column == 'RatingName'):\n",
    "                df_func[column].replace(to_replace = True, value = 'TRUE', inplace = True)\n",
    "                df_func[column].replace(to_replace = False, value = 'FALSE', inplace = True)\n",
    "        \n",
    "        df_func.to_csv('datasets/generated.csv', sep = ';', index = False)\n",
    "        print(f'\\nFile \\'generated.csv\\' created !\\nYou can found this csv in the following path datasets/generated.csv')\n",
    "\n",
    "        return df_func"
   ]
  },
  {
   "cell_type": "markdown",
   "metadata": {},
   "source": [
    "<div class=\"alert alert-block alert-info\" align=\"center\">\n",
    "    <h1>\n",
    "        Generating & saving data\n",
    "    </h1>\n",
    "</div>"
   ]
  },
  {
   "cell_type": "markdown",
   "metadata": {},
   "source": [
    "<h2>read_data(data='test', number = '1000')</h2>\n",
    "<ul>\n",
    "    <li><b>data</b></li>\n",
    "\t<ul>\n",
    "\t\t<li>'all' for all website</li>\n",
    "\t\t<li>'polsno' for politifact's and snopes' claims </li>\n",
    "\t\t<li>'test' for csv test (all sites) with 10000 claims max</li>\n",
    "\t</ul>\n",
    "        <li><b>number</b></li>\n",
    "\t<ul>\n",
    "\t\t<li>number of claims to generate</li>\n",
    "\t</ul>\n",
    "</ul>"
   ]
  },
  {
   "cell_type": "code",
   "execution_count": null,
   "metadata": {},
   "outputs": [],
   "source": [
    "df = read_data(data = 'test', number = 250)"
   ]
  },
  {
   "cell_type": "markdown",
   "metadata": {},
   "source": [
    "<div class=\"alert alert-block alert-info\" align=\"center\">\n",
    "    <h1>\n",
    "        Printing informations\n",
    "    </h1>\n",
    "</div>"
   ]
  },
  {
   "cell_type": "markdown",
   "metadata": {},
   "source": [
    "## Shape"
   ]
  },
  {
   "cell_type": "code",
   "execution_count": null,
   "metadata": {},
   "outputs": [],
   "source": [
    "print(f'Shape :\\n{df.shape}')"
   ]
  },
  {
   "cell_type": "markdown",
   "metadata": {},
   "source": [
    "## Informations"
   ]
  },
  {
   "cell_type": "code",
   "execution_count": null,
   "metadata": {},
   "outputs": [],
   "source": [
    "print(f'Informations :')\n",
    "df.info()"
   ]
  },
  {
   "cell_type": "markdown",
   "metadata": {},
   "source": [
    "## Description"
   ]
  },
  {
   "cell_type": "code",
   "execution_count": null,
   "metadata": {},
   "outputs": [],
   "source": [
    "print(f'Description :')\n",
    "display(df.describe())"
   ]
  },
  {
   "cell_type": "markdown",
   "metadata": {},
   "source": [
    "## Printing some lines"
   ]
  },
  {
   "cell_type": "code",
   "execution_count": null,
   "metadata": {
    "scrolled": false
   },
   "outputs": [],
   "source": [
    "print(f'Printing some lines :')\n",
    "display(df.head())"
   ]
  },
  {
   "cell_type": "markdown",
   "metadata": {},
   "source": [
    "## Affichage d'informations sur toutes les colonnes"
   ]
  },
  {
   "cell_type": "code",
   "execution_count": null,
   "metadata": {},
   "outputs": [],
   "source": [
    "for column in df.columns:\n",
    "      print(f'Nombre de valeurs nulles pour {column} :\\n{df[column].isnull().value_counts()}\\n')"
   ]
  },
  {
   "cell_type": "markdown",
   "metadata": {},
   "source": [
    "## Affichage des colonnes vides"
   ]
  },
  {
   "cell_type": "code",
   "execution_count": null,
   "metadata": {},
   "outputs": [],
   "source": [
    "array = []\n",
    "for column in df.columns:\n",
    "    value = False\n",
    "    value = df[column].isnull().any()\n",
    "    if value:\n",
    "        array.append(column)\n",
    "print(f'Nombre de colonnes vides : {len(array)}\\nLes colonnes vide sont :\\n{array}')"
   ]
  },
  {
   "cell_type": "markdown",
   "metadata": {},
   "source": [
    "## Description de toutes les colonnes"
   ]
  },
  {
   "cell_type": "code",
   "execution_count": null,
   "metadata": {
    "scrolled": false
   },
   "outputs": [],
   "source": [
    "for column in df.columns:\n",
    "    display(df[column].describe())"
   ]
  },
  {
   "cell_type": "markdown",
   "metadata": {},
   "source": [
    "## Get a series of unique values in each column of the dataframe"
   ]
  },
  {
   "cell_type": "code",
   "execution_count": null,
   "metadata": {
    "scrolled": true
   },
   "outputs": [],
   "source": [
    "for column in df.columns:\n",
    "    uniqueValues = df[column].unique()\n",
    "    print(f'Number of unique elements in column {column} : {len(uniqueValues)}, values & type :\\n{uniqueValues}\\n')"
   ]
  },
  {
   "cell_type": "markdown",
   "metadata": {},
   "source": [
    "## Affichage du nombre des différents TruthRating"
   ]
  },
  {
   "cell_type": "code",
   "execution_count": null,
   "metadata": {},
   "outputs": [],
   "source": [
    "print(f'La colonne TruthRating contient :')\n",
    "print(f'{df[df[\"TruthRating\"]==-1][\"ID\"].count()} Other')\n",
    "print(f'{df[df[\"TruthRating\"]==1][\"ID\"].count()} False')\n",
    "print(f'{df[df[\"TruthRating\"]==2][\"ID\"].count()} Mixture')\n",
    "print(f'{df[df[\"TruthRating\"]==3][\"ID\"].count()} True')"
   ]
  },
  {
   "cell_type": "markdown",
   "metadata": {},
   "source": [
    "<div class=\"alert alert-block alert-info\" align=\"center\">\n",
    "    <h1>\n",
    "        Visualization\n",
    "    </h1>\n",
    "</div>"
   ]
  },
  {
   "cell_type": "code",
   "execution_count": null,
   "metadata": {},
   "outputs": [],
   "source": [
    "chart = sns.countplot(x = 'Source', data = df)\n",
    "plt.setp(chart.get_xticklabels(), rotation = 45, horizontalalignment = 'right')\n",
    "plt.show()"
   ]
  },
  {
   "cell_type": "code",
   "execution_count": null,
   "metadata": {},
   "outputs": [],
   "source": [
    "chart = sns.catplot(x = 'Source', col = 'RatingName', kind = 'count', data = df)\n",
    "for ax in chart.axes.ravel():\n",
    "    plt.setp(ax.get_xticklabels(), rotation = 45, horizontalalignment = 'right')\n",
    "plt.show()"
   ]
  },
  {
   "cell_type": "code",
   "execution_count": null,
   "metadata": {},
   "outputs": [],
   "source": [
    "chart = sns.catplot('Source', data = df, hue = 'RatingName', kind = 'count')\n",
    "for ax in chart.axes.ravel():\n",
    "    plt.setp(ax.get_xticklabels(), rotation = 45, horizontalalignment = 'right')\n",
    "plt.show()"
   ]
  },
  {
   "cell_type": "code",
   "execution_count": null,
   "metadata": {},
   "outputs": [],
   "source": [
    "sns.heatmap(df.isnull(), cbar = False)\n",
    "plt.show()"
   ]
  }
 ],
 "metadata": {
  "kernelspec": {
   "display_name": "Python 3",
   "language": "python",
   "name": "python3"
  },
  "language_info": {
   "codemirror_mode": {
    "name": "ipython",
    "version": 3
   },
   "file_extension": ".py",
   "mimetype": "text/x-python",
   "name": "python",
   "nbconvert_exporter": "python",
   "pygments_lexer": "ipython3",
   "version": "3.7.4"
  }
 },
 "nbformat": 4,
 "nbformat_minor": 2
}
