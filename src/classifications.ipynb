{
 "cells": [
  {
   "cell_type": "markdown",
   "metadata": {},
   "source": [
    "<div align=\"center\"><h1> Projet Data Science </h1></div>\n",
    "<div align=\"center\"><h2> Classification d'assertions selon leur valeurs de véracité ( automatic fact-checking ) </h2></div>"
   ]
  },
  {
   "cell_type": "markdown",
   "metadata": {},
   "source": [
    "<div class=\"alert alert-block alert-info\" align=\"center\">\n",
    "    <h1>\n",
    "        Executing the basic\n",
    "    </h1>\n",
    "</div>"
   ]
  },
  {
   "cell_type": "code",
   "execution_count": 1,
   "metadata": {},
   "outputs": [],
   "source": [
    "import pandas as pd\n",
    "import numpy as np \n",
    "import seaborn as sns\n",
    "import matplotlib.pyplot as plt\n",
    "import sklearn\n",
    "import warnings\n",
    "import nltk\n",
    "import pickle\n",
    "import unicodedata\n",
    "import inflect\n",
    "import re\n",
    "import time\n",
    "import contractions\n",
    "\n",
    "from enum import Enum\n",
    "from functools import reduce\n",
    "from nltk.tokenize import word_tokenize\n",
    "from nltk.corpus import stopwords\n",
    "from sklearn.preprocessing import LabelEncoder\n",
    "from sklearn.preprocessing import OneHotEncoder\n",
    "from sklearn.preprocessing import MinMaxScaler\n",
    "from sklearn.preprocessing import StandardScaler\n",
    "from sklearn.feature_extraction.text import TfidfVectorizer\n",
    "from sklearn.feature_extraction.text import TfidfTransformer\n",
    "from sklearn.feature_extraction.text import CountVectorizer\n",
    "from sklearn.naive_bayes import GaussianNB\n",
    "from sklearn.neighbors import KNeighborsClassifier\n",
    "from sklearn.tree import DecisionTreeClassifier\n",
    "from sklearn.svm import SVC\n",
    "from sklearn.ensemble import RandomForestClassifier\n",
    "from sklearn.linear_model import LogisticRegression\n",
    "from sklearn.svm import LinearSVC\n",
    "from sklearn.tree import DecisionTreeRegressor\n",
    "from sklearn.model_selection import GridSearchCV\n",
    "from sklearn.metrics import accuracy_score\n",
    "from sklearn.metrics import confusion_matrix\n",
    "from sklearn.metrics import classification_report\n",
    "from sklearn.model_selection import train_test_split\n",
    "from sklearn.model_selection import KFold\n",
    "from sklearn.model_selection import cross_val_score\n",
    "from sklearn.utils import resample\n",
    "\n",
    "warnings.filterwarnings(\"ignore\", category = FutureWarning)\n",
    "\n",
    "try:\n",
    "    nltk.data.find('corpora/stopwords')\n",
    "except LookupError:\n",
    "    nltk.download('stopwords')\n",
    "\n",
    "try:\n",
    "    nltk.data.find('tokenizers/punkt')\n",
    "except LookupError:\n",
    "    nltk.download('punkt')\n",
    "    \n",
    "try:\n",
    "    nltk.data.find('corpora/wordnet')\n",
    "except LookupError:\n",
    "    nltk.download('wordnet')\n",
    "    \n",
    "try:\n",
    "    nltk.data.find('taggers/averaged_perceptron_tagger')\n",
    "except LookupError:\n",
    "    nltk.download('averaged_perceptron_tagger')\n",
    "\n",
    "# Compte rendu de classification\n",
    "def cpt_mal_classes(y_test_func, result_func):\n",
    "    nb_func = 0\n",
    "    for i in range(len(y_test_func)):\n",
    "        if y_test_func[i] != result_func[i]:\n",
    "            nb_func += 1\n",
    "    print (f'Taille des données {len(y_test_func)} mal classés {nb_func}\\n')"
   ]
  },
  {
   "cell_type": "markdown",
   "metadata": {},
   "source": [
    "<div class=\"alert alert-block alert-info\" align=\"center\">\n",
    "    <h1>\n",
    "        Classification\n",
    "    </h1>\n",
    "</div>"
   ]
  },
  {
   "cell_type": "markdown",
   "metadata": {},
   "source": [
    "## Reading the transformed data for the classification"
   ]
  },
  {
   "cell_type": "code",
   "execution_count": 26,
   "metadata": {},
   "outputs": [
    {
     "data": {
      "text/html": [
       "<div>\n",
       "<style scoped>\n",
       "    .dataframe tbody tr th:only-of-type {\n",
       "        vertical-align: middle;\n",
       "    }\n",
       "\n",
       "    .dataframe tbody tr th {\n",
       "        vertical-align: top;\n",
       "    }\n",
       "\n",
       "    .dataframe thead th {\n",
       "        text-align: right;\n",
       "    }\n",
       "</style>\n",
       "<table border=\"1\" class=\"dataframe\">\n",
       "  <thead>\n",
       "    <tr style=\"text-align: right;\">\n",
       "      <th></th>\n",
       "      <th>abbott</th>\n",
       "      <th>abe</th>\n",
       "      <th>able</th>\n",
       "      <th>abortion</th>\n",
       "      <th>abruin</th>\n",
       "      <th>abuse</th>\n",
       "      <th>academy</th>\n",
       "      <th>accept</th>\n",
       "      <th>accepted</th>\n",
       "      <th>accepts</th>\n",
       "      <th>...</th>\n",
       "      <th>youn</th>\n",
       "      <th>yous</th>\n",
       "      <th>youth</th>\n",
       "      <th>yvette</th>\n",
       "      <th>zero</th>\n",
       "      <th>Source_africacheck</th>\n",
       "      <th>Source_politifact</th>\n",
       "      <th>Source_snopes</th>\n",
       "      <th>Source_truthorfiction</th>\n",
       "      <th>RatingName</th>\n",
       "    </tr>\n",
       "  </thead>\n",
       "  <tbody>\n",
       "    <tr>\n",
       "      <td>0</td>\n",
       "      <td>-0.085331</td>\n",
       "      <td>-0.060302</td>\n",
       "      <td>-0.060302</td>\n",
       "      <td>-0.084286</td>\n",
       "      <td>-0.060302</td>\n",
       "      <td>-0.060302</td>\n",
       "      <td>-0.060302</td>\n",
       "      <td>-0.060302</td>\n",
       "      <td>-0.060302</td>\n",
       "      <td>-0.060302</td>\n",
       "      <td>...</td>\n",
       "      <td>-0.060302</td>\n",
       "      <td>-0.268617</td>\n",
       "      <td>-0.060302</td>\n",
       "      <td>-0.060302</td>\n",
       "      <td>-0.20186</td>\n",
       "      <td>0</td>\n",
       "      <td>0</td>\n",
       "      <td>1</td>\n",
       "      <td>0</td>\n",
       "      <td>0</td>\n",
       "    </tr>\n",
       "    <tr>\n",
       "      <td>1</td>\n",
       "      <td>-0.085331</td>\n",
       "      <td>-0.060302</td>\n",
       "      <td>-0.060302</td>\n",
       "      <td>-0.084286</td>\n",
       "      <td>-0.060302</td>\n",
       "      <td>-0.060302</td>\n",
       "      <td>-0.060302</td>\n",
       "      <td>-0.060302</td>\n",
       "      <td>-0.060302</td>\n",
       "      <td>-0.060302</td>\n",
       "      <td>...</td>\n",
       "      <td>-0.060302</td>\n",
       "      <td>-0.268617</td>\n",
       "      <td>-0.060302</td>\n",
       "      <td>-0.060302</td>\n",
       "      <td>-0.20186</td>\n",
       "      <td>0</td>\n",
       "      <td>0</td>\n",
       "      <td>1</td>\n",
       "      <td>0</td>\n",
       "      <td>0</td>\n",
       "    </tr>\n",
       "    <tr>\n",
       "      <td>2</td>\n",
       "      <td>-0.085331</td>\n",
       "      <td>-0.060302</td>\n",
       "      <td>-0.060302</td>\n",
       "      <td>-0.084286</td>\n",
       "      <td>-0.060302</td>\n",
       "      <td>-0.060302</td>\n",
       "      <td>-0.060302</td>\n",
       "      <td>-0.060302</td>\n",
       "      <td>-0.060302</td>\n",
       "      <td>-0.060302</td>\n",
       "      <td>...</td>\n",
       "      <td>-0.060302</td>\n",
       "      <td>-0.268617</td>\n",
       "      <td>-0.060302</td>\n",
       "      <td>-0.060302</td>\n",
       "      <td>-0.20186</td>\n",
       "      <td>0</td>\n",
       "      <td>0</td>\n",
       "      <td>1</td>\n",
       "      <td>0</td>\n",
       "      <td>0</td>\n",
       "    </tr>\n",
       "    <tr>\n",
       "      <td>3</td>\n",
       "      <td>-0.085331</td>\n",
       "      <td>-0.060302</td>\n",
       "      <td>-0.060302</td>\n",
       "      <td>-0.084286</td>\n",
       "      <td>-0.060302</td>\n",
       "      <td>-0.060302</td>\n",
       "      <td>-0.060302</td>\n",
       "      <td>-0.060302</td>\n",
       "      <td>-0.060302</td>\n",
       "      <td>-0.060302</td>\n",
       "      <td>...</td>\n",
       "      <td>-0.060302</td>\n",
       "      <td>-0.268617</td>\n",
       "      <td>-0.060302</td>\n",
       "      <td>-0.060302</td>\n",
       "      <td>-0.20186</td>\n",
       "      <td>1</td>\n",
       "      <td>0</td>\n",
       "      <td>0</td>\n",
       "      <td>0</td>\n",
       "      <td>0</td>\n",
       "    </tr>\n",
       "    <tr>\n",
       "      <td>4</td>\n",
       "      <td>-0.085331</td>\n",
       "      <td>-0.060302</td>\n",
       "      <td>-0.060302</td>\n",
       "      <td>-0.084286</td>\n",
       "      <td>-0.060302</td>\n",
       "      <td>-0.060302</td>\n",
       "      <td>-0.060302</td>\n",
       "      <td>-0.060302</td>\n",
       "      <td>-0.060302</td>\n",
       "      <td>-0.060302</td>\n",
       "      <td>...</td>\n",
       "      <td>-0.060302</td>\n",
       "      <td>-0.268617</td>\n",
       "      <td>-0.060302</td>\n",
       "      <td>-0.060302</td>\n",
       "      <td>-0.20186</td>\n",
       "      <td>0</td>\n",
       "      <td>0</td>\n",
       "      <td>1</td>\n",
       "      <td>0</td>\n",
       "      <td>0</td>\n",
       "    </tr>\n",
       "    <tr>\n",
       "      <td>...</td>\n",
       "      <td>...</td>\n",
       "      <td>...</td>\n",
       "      <td>...</td>\n",
       "      <td>...</td>\n",
       "      <td>...</td>\n",
       "      <td>...</td>\n",
       "      <td>...</td>\n",
       "      <td>...</td>\n",
       "      <td>...</td>\n",
       "      <td>...</td>\n",
       "      <td>...</td>\n",
       "      <td>...</td>\n",
       "      <td>...</td>\n",
       "      <td>...</td>\n",
       "      <td>...</td>\n",
       "      <td>...</td>\n",
       "      <td>...</td>\n",
       "      <td>...</td>\n",
       "      <td>...</td>\n",
       "      <td>...</td>\n",
       "      <td>...</td>\n",
       "    </tr>\n",
       "    <tr>\n",
       "      <td>271</td>\n",
       "      <td>-0.085331</td>\n",
       "      <td>-0.060302</td>\n",
       "      <td>-0.060302</td>\n",
       "      <td>-0.084286</td>\n",
       "      <td>-0.060302</td>\n",
       "      <td>-0.060302</td>\n",
       "      <td>-0.060302</td>\n",
       "      <td>-0.060302</td>\n",
       "      <td>-0.060302</td>\n",
       "      <td>-0.060302</td>\n",
       "      <td>...</td>\n",
       "      <td>-0.060302</td>\n",
       "      <td>-0.268617</td>\n",
       "      <td>-0.060302</td>\n",
       "      <td>-0.060302</td>\n",
       "      <td>-0.20186</td>\n",
       "      <td>0</td>\n",
       "      <td>1</td>\n",
       "      <td>0</td>\n",
       "      <td>0</td>\n",
       "      <td>1</td>\n",
       "    </tr>\n",
       "    <tr>\n",
       "      <td>272</td>\n",
       "      <td>-0.085331</td>\n",
       "      <td>-0.060302</td>\n",
       "      <td>-0.060302</td>\n",
       "      <td>-0.084286</td>\n",
       "      <td>-0.060302</td>\n",
       "      <td>-0.060302</td>\n",
       "      <td>-0.060302</td>\n",
       "      <td>-0.060302</td>\n",
       "      <td>-0.060302</td>\n",
       "      <td>-0.060302</td>\n",
       "      <td>...</td>\n",
       "      <td>-0.060302</td>\n",
       "      <td>-0.268617</td>\n",
       "      <td>-0.060302</td>\n",
       "      <td>-0.060302</td>\n",
       "      <td>-0.20186</td>\n",
       "      <td>0</td>\n",
       "      <td>0</td>\n",
       "      <td>1</td>\n",
       "      <td>0</td>\n",
       "      <td>1</td>\n",
       "    </tr>\n",
       "    <tr>\n",
       "      <td>273</td>\n",
       "      <td>-0.085331</td>\n",
       "      <td>-0.060302</td>\n",
       "      <td>-0.060302</td>\n",
       "      <td>-0.084286</td>\n",
       "      <td>-0.060302</td>\n",
       "      <td>-0.060302</td>\n",
       "      <td>-0.060302</td>\n",
       "      <td>-0.060302</td>\n",
       "      <td>-0.060302</td>\n",
       "      <td>-0.060302</td>\n",
       "      <td>...</td>\n",
       "      <td>-0.060302</td>\n",
       "      <td>-0.268617</td>\n",
       "      <td>-0.060302</td>\n",
       "      <td>-0.060302</td>\n",
       "      <td>-0.20186</td>\n",
       "      <td>0</td>\n",
       "      <td>1</td>\n",
       "      <td>0</td>\n",
       "      <td>0</td>\n",
       "      <td>1</td>\n",
       "    </tr>\n",
       "    <tr>\n",
       "      <td>274</td>\n",
       "      <td>-0.085331</td>\n",
       "      <td>-0.060302</td>\n",
       "      <td>-0.060302</td>\n",
       "      <td>-0.084286</td>\n",
       "      <td>-0.060302</td>\n",
       "      <td>-0.060302</td>\n",
       "      <td>-0.060302</td>\n",
       "      <td>-0.060302</td>\n",
       "      <td>-0.060302</td>\n",
       "      <td>-0.060302</td>\n",
       "      <td>...</td>\n",
       "      <td>-0.060302</td>\n",
       "      <td>-0.268617</td>\n",
       "      <td>-0.060302</td>\n",
       "      <td>-0.060302</td>\n",
       "      <td>-0.20186</td>\n",
       "      <td>0</td>\n",
       "      <td>1</td>\n",
       "      <td>0</td>\n",
       "      <td>0</td>\n",
       "      <td>1</td>\n",
       "    </tr>\n",
       "    <tr>\n",
       "      <td>275</td>\n",
       "      <td>-0.085331</td>\n",
       "      <td>-0.060302</td>\n",
       "      <td>-0.060302</td>\n",
       "      <td>-0.084286</td>\n",
       "      <td>-0.060302</td>\n",
       "      <td>-0.060302</td>\n",
       "      <td>-0.060302</td>\n",
       "      <td>-0.060302</td>\n",
       "      <td>-0.060302</td>\n",
       "      <td>-0.060302</td>\n",
       "      <td>...</td>\n",
       "      <td>-0.060302</td>\n",
       "      <td>-0.268617</td>\n",
       "      <td>-0.060302</td>\n",
       "      <td>-0.060302</td>\n",
       "      <td>-0.20186</td>\n",
       "      <td>0</td>\n",
       "      <td>1</td>\n",
       "      <td>0</td>\n",
       "      <td>0</td>\n",
       "      <td>1</td>\n",
       "    </tr>\n",
       "  </tbody>\n",
       "</table>\n",
       "<p>276 rows × 2180 columns</p>\n",
       "</div>"
      ],
      "text/plain": [
       "       abbott       abe      able  abortion    abruin     abuse   academy  \\\n",
       "0   -0.085331 -0.060302 -0.060302 -0.084286 -0.060302 -0.060302 -0.060302   \n",
       "1   -0.085331 -0.060302 -0.060302 -0.084286 -0.060302 -0.060302 -0.060302   \n",
       "2   -0.085331 -0.060302 -0.060302 -0.084286 -0.060302 -0.060302 -0.060302   \n",
       "3   -0.085331 -0.060302 -0.060302 -0.084286 -0.060302 -0.060302 -0.060302   \n",
       "4   -0.085331 -0.060302 -0.060302 -0.084286 -0.060302 -0.060302 -0.060302   \n",
       "..        ...       ...       ...       ...       ...       ...       ...   \n",
       "271 -0.085331 -0.060302 -0.060302 -0.084286 -0.060302 -0.060302 -0.060302   \n",
       "272 -0.085331 -0.060302 -0.060302 -0.084286 -0.060302 -0.060302 -0.060302   \n",
       "273 -0.085331 -0.060302 -0.060302 -0.084286 -0.060302 -0.060302 -0.060302   \n",
       "274 -0.085331 -0.060302 -0.060302 -0.084286 -0.060302 -0.060302 -0.060302   \n",
       "275 -0.085331 -0.060302 -0.060302 -0.084286 -0.060302 -0.060302 -0.060302   \n",
       "\n",
       "       accept  accepted   accepts  ...      youn      yous     youth  \\\n",
       "0   -0.060302 -0.060302 -0.060302  ... -0.060302 -0.268617 -0.060302   \n",
       "1   -0.060302 -0.060302 -0.060302  ... -0.060302 -0.268617 -0.060302   \n",
       "2   -0.060302 -0.060302 -0.060302  ... -0.060302 -0.268617 -0.060302   \n",
       "3   -0.060302 -0.060302 -0.060302  ... -0.060302 -0.268617 -0.060302   \n",
       "4   -0.060302 -0.060302 -0.060302  ... -0.060302 -0.268617 -0.060302   \n",
       "..        ...       ...       ...  ...       ...       ...       ...   \n",
       "271 -0.060302 -0.060302 -0.060302  ... -0.060302 -0.268617 -0.060302   \n",
       "272 -0.060302 -0.060302 -0.060302  ... -0.060302 -0.268617 -0.060302   \n",
       "273 -0.060302 -0.060302 -0.060302  ... -0.060302 -0.268617 -0.060302   \n",
       "274 -0.060302 -0.060302 -0.060302  ... -0.060302 -0.268617 -0.060302   \n",
       "275 -0.060302 -0.060302 -0.060302  ... -0.060302 -0.268617 -0.060302   \n",
       "\n",
       "       yvette     zero  Source_africacheck  Source_politifact  Source_snopes  \\\n",
       "0   -0.060302 -0.20186                   0                  0              1   \n",
       "1   -0.060302 -0.20186                   0                  0              1   \n",
       "2   -0.060302 -0.20186                   0                  0              1   \n",
       "3   -0.060302 -0.20186                   1                  0              0   \n",
       "4   -0.060302 -0.20186                   0                  0              1   \n",
       "..        ...      ...                 ...                ...            ...   \n",
       "271 -0.060302 -0.20186                   0                  1              0   \n",
       "272 -0.060302 -0.20186                   0                  0              1   \n",
       "273 -0.060302 -0.20186                   0                  1              0   \n",
       "274 -0.060302 -0.20186                   0                  1              0   \n",
       "275 -0.060302 -0.20186                   0                  1              0   \n",
       "\n",
       "     Source_truthorfiction  RatingName  \n",
       "0                        0           0  \n",
       "1                        0           0  \n",
       "2                        0           0  \n",
       "3                        0           0  \n",
       "4                        0           0  \n",
       "..                     ...         ...  \n",
       "271                      0           1  \n",
       "272                      0           1  \n",
       "273                      0           1  \n",
       "274                      0           1  \n",
       "275                      0           1  \n",
       "\n",
       "[276 rows x 2180 columns]"
      ]
     },
     "metadata": {},
     "output_type": "display_data"
    }
   ],
   "source": [
    "df = pd.read_csv('attemps/tfcleandownsample2.csv', sep = ';')\n",
    "display(df)"
   ]
  },
  {
   "cell_type": "markdown",
   "metadata": {},
   "source": [
    "## Define the learning variables and the variable to predict"
   ]
  },
  {
   "cell_type": "code",
   "execution_count": 3,
   "metadata": {},
   "outputs": [],
   "source": [
    "array = df.values\n",
    "X = array[:,0:-1]\n",
    "y = array[:,-1]"
   ]
  },
  {
   "cell_type": "markdown",
   "metadata": {},
   "source": [
    "## Cut the data set into a test set and a learning set"
   ]
  },
  {
   "cell_type": "code",
   "execution_count": 4,
   "metadata": {},
   "outputs": [],
   "source": [
    "myTrainSize = 0.3 # 30% du jeu de données pour le test\n",
    "myTestSize = 1 - myTrainSize # 70% du jeu de données pour l'entraînement\n",
    "seed = 30\n",
    "\n",
    "X_train, X_test, y_train, y_test = train_test_split(X, y, train_size = myTrainSize, random_state = seed, test_size = myTestSize)"
   ]
  },
  {
   "cell_type": "markdown",
   "metadata": {},
   "source": [
    "<div align=\"center\">\n",
    "    <h1>\n",
    "        Testing the first classifier on attemp 1\n",
    "    </h1>\n",
    "</div>"
   ]
  },
  {
   "cell_type": "markdown",
   "metadata": {},
   "source": [
    "## GaussianNB classifier"
   ]
  },
  {
   "cell_type": "code",
   "execution_count": 5,
   "metadata": {},
   "outputs": [
    {
     "name": "stdout",
     "output_type": "stream",
     "text": [
      "accuracy : 0.6581196581196581\n"
     ]
    }
   ],
   "source": [
    "clfGaussianNB = GaussianNB()\n",
    "\n",
    "clfGaussianNB.fit(X_train, y_train)\n",
    "\n",
    "resultGaussianNB = clfGaussianNB.predict(X_test)\n",
    "\n",
    "print(f'accuracy : {accuracy_score(resultGaussianNB, y_test)}')"
   ]
  },
  {
   "cell_type": "markdown",
   "metadata": {},
   "source": [
    "## Display the confusion matrix and the classification report"
   ]
  },
  {
   "cell_type": "code",
   "execution_count": 6,
   "metadata": {},
   "outputs": [
    {
     "name": "stdout",
     "output_type": "stream",
     "text": [
      "Matrice de confusion :\n",
      "[[210  42]\n",
      " [ 78  21]]\n",
      "Classification report :\n",
      "              precision    recall  f1-score   support\n",
      "\n",
      "         0.0       0.73      0.83      0.78       252\n",
      "         1.0       0.33      0.21      0.26        99\n",
      "\n",
      "    accuracy                           0.66       351\n",
      "   macro avg       0.53      0.52      0.52       351\n",
      "weighted avg       0.62      0.66      0.63       351\n",
      "\n"
     ]
    }
   ],
   "source": [
    "print (f'Matrice de confusion :\\n{confusion_matrix(y_test, resultGaussianNB)}')\n",
    "print (f'Classification report :\\n{classification_report(y_test, resultGaussianNB)}')"
   ]
  },
  {
   "cell_type": "markdown",
   "metadata": {},
   "source": [
    "## Cross validate with 10 splits (Kfold)"
   ]
  },
  {
   "cell_type": "code",
   "execution_count": 7,
   "metadata": {},
   "outputs": [],
   "source": [
    "seed = 7\n",
    "myKFold = KFold(n_splits = 10, shuffle = True, random_state = seed)"
   ]
  },
  {
   "cell_type": "markdown",
   "metadata": {},
   "source": [
    "## Apply the GaussianNB classifier and give the different accuracy for the 10 evaluations"
   ]
  },
  {
   "cell_type": "code",
   "execution_count": 8,
   "metadata": {},
   "outputs": [
    {
     "name": "stdout",
     "output_type": "stream",
     "text": [
      "Les différentes accuracy pour les 10 évaluations sont :\n",
      "[0.62745098 0.66       0.74       0.62       0.56       0.48\n",
      " 0.66       0.56       0.7        0.66      ]\n",
      "Accuracy moyenne : 0.6267450980392157 | Standard deviation : 0.07211140938382635\n"
     ]
    }
   ],
   "source": [
    "clfGaussianNB = GaussianNB()\n",
    "\n",
    "myScoring = 'accuracy'\n",
    "\n",
    "score = cross_val_score(clfGaussianNB, X, y, cv = myKFold, scoring = myScoring)\n",
    "\n",
    "print(f'Les différentes accuracy pour les 10 évaluations sont :\\n{score}')\n",
    "print(f'Accuracy moyenne : {score.mean()} | Standard deviation : {score.std()}')"
   ]
  },
  {
   "cell_type": "markdown",
   "metadata": {},
   "source": [
    "<div align=\"center\">\n",
    "    <h1>\n",
    "        Testing several classifiers\n",
    "    </h1>\n",
    "</div>"
   ]
  },
  {
   "cell_type": "code",
   "execution_count": 9,
   "metadata": {},
   "outputs": [],
   "source": [
    "models = []\n",
    "\n",
    "models.append(('KNN', KNeighborsClassifier()))      # GS Done\n",
    "models.append(('CART', DecisionTreeClassifier()))   # GS Done\n",
    "models.append(('NB', GaussianNB()))\n",
    "models.append(('SVC', SVC()))                       # GS Done\n",
    "models.append(('RFO', RandomForestClassifier()))    # GS Done\n",
    "models.append(('LR', LogisticRegression()))\n",
    "models.append(('LSVC', LinearSVC(dual = False)))"
   ]
  },
  {
   "cell_type": "markdown",
   "metadata": {},
   "source": [
    "## Without shuffle"
   ]
  },
  {
   "cell_type": "code",
   "execution_count": 10,
   "metadata": {},
   "outputs": [
    {
     "name": "stdout",
     "output_type": "stream",
     "text": [
      "KNN\t(0.72 | 0.04 | Time : 1.97)\n",
      "\n",
      "CART\t(0.67 | 0.03 | Time : 3.90)\n",
      "\n",
      "NB\t(0.62 | 0.06 | Time : 0.72)\n",
      "\n",
      "SVC\t(0.72 | 0.04 | Time : 16.40)\n",
      "\n",
      "RFO\t(0.72 | 0.05 | Time : 1.56)\n",
      "\n",
      "LR\t(0.32 | 0.05 | Time : 4.17)\n",
      "\n",
      "LSVC\t(0.30 | 0.05 | Time : 103.85)\n",
      "\n"
     ]
    }
   ],
   "source": [
    "seed = 7\n",
    "myScoring = 'accuracy'\n",
    "scores = []\n",
    "names = []\n",
    "\n",
    "for name, model in models:\n",
    "    myKFold = KFold(n_splits = 10, random_state = seed)\n",
    "    startTime = time.time()\n",
    "    score = cross_val_score(model, X, y, cv = myKFold, scoring = myScoring)\n",
    "    endTime = time.time()\n",
    "    scores.append(score)\n",
    "    names.append(name)\n",
    "    print(f'{name}\\t({score.mean():.2f} | {score.std():.2f} | Time : {endTime - startTime:.2f})\\n')"
   ]
  },
  {
   "cell_type": "markdown",
   "metadata": {},
   "source": [
    "## Displaying results of the different classifiers"
   ]
  },
  {
   "cell_type": "code",
   "execution_count": 11,
   "metadata": {},
   "outputs": [
    {
     "data": {
      "image/png": "[encoded data removed]",
      "text/plain": [
       "<Figure size 432x288 with 1 Axes>"
      ]
     },
     "metadata": {
      "needs_background": "light"
     },
     "output_type": "display_data"
    }
   ],
   "source": [
    "fig = plt.figure()\n",
    "fig.suptitle('Comparaison des algorithmes')\n",
    "ax = fig.add_subplot(111)\n",
    "plt.boxplot(scores)\n",
    "ax.set_xticklabels(names)\n",
    "plt.show()"
   ]
  },
  {
   "cell_type": "markdown",
   "metadata": {},
   "source": [
    "## With shuffle"
   ]
  },
  {
   "cell_type": "code",
   "execution_count": 12,
   "metadata": {
    "scrolled": false
   },
   "outputs": [
    {
     "name": "stdout",
     "output_type": "stream",
     "text": [
      "KNN\t(0.72 | 0.07 | Time : 2.56)\n",
      "\n",
      "CART\t(0.66 | 0.04 | Time : 5.77)\n",
      "\n",
      "NB\t(0.63 | 0.07 | Time : 0.63)\n",
      "\n",
      "SVC\t(0.72 | 0.07 | Time : 14.48)\n",
      "\n",
      "RFO\t(0.72 | 0.06 | Time : 1.05)\n",
      "\n",
      "LR\t(0.31 | 0.07 | Time : 2.92)\n",
      "\n",
      "LSVC\t(0.30 | 0.07 | Time : 123.43)\n",
      "\n"
     ]
    }
   ],
   "source": [
    "scores = []\n",
    "names = []\n",
    "\n",
    "for name, model in models:\n",
    "    myKFold = KFold(n_splits = 10, shuffle = True, random_state = seed)\n",
    "    startTime = time.time()\n",
    "    score = cross_val_score(model, X, y, cv = myKFold, scoring = myScoring)\n",
    "    endTime = time.time()\n",
    "    scores.append(score)\n",
    "    names.append(name)\n",
    "    print(f'{name}\\t({score.mean():.2f} | {score.std():.2f} | Time : {endTime - startTime:.2f})\\n')"
   ]
  },
  {
   "cell_type": "markdown",
   "metadata": {},
   "source": [
    "## Displaying results of the different classifiers"
   ]
  },
  {
   "cell_type": "code",
   "execution_count": 13,
   "metadata": {},
   "outputs": [
    {
     "data": {
      "image/png": "[encoded data removed]",
      "text/plain": [
       "<Figure size 432x288 with 1 Axes>"
      ]
     },
     "metadata": {
      "needs_background": "light"
     },
     "output_type": "display_data"
    }
   ],
   "source": [
    "fig = plt.figure()\n",
    "fig.suptitle('Comparaison des algorithmes')\n",
    "ax = fig.add_subplot(111)\n",
    "plt.boxplot(scores)\n",
    "ax.set_xticklabels(names)\n",
    "plt.show()"
   ]
  },
  {
   "cell_type": "markdown",
   "metadata": {},
   "source": [
    "## Apply GridSearchCV to RandomForestClassifier"
   ]
  },
  {
   "cell_type": "code",
   "execution_count": 14,
   "metadata": {},
   "outputs": [
    {
     "name": "stdout",
     "output_type": "stream",
     "text": [
      "temps : 58.45\n",
      "meilleur score : 0.74\n",
      "meilleurs paramètres :\n",
      "{'criterion': 'entropy', 'max_depth': 3, 'max_features': 'sqrt', 'min_samples_leaf': 1, 'min_samples_split': 2, 'n_estimators': 6}\n",
      "meilleur estimateur :\n",
      "RandomForestClassifier(bootstrap=True, class_weight=None, criterion='entropy',\n",
      "                       max_depth=3, max_features='sqrt', max_leaf_nodes=None,\n",
      "                       min_impurity_decrease=0.0, min_impurity_split=None,\n",
      "                       min_samples_leaf=1, min_samples_split=2,\n",
      "                       min_weight_fraction_leaf=0.0, n_estimators=6,\n",
      "                       n_jobs=None, oob_score=False, random_state=None,\n",
      "                       verbose=0, warm_start=False)\n"
     ]
    }
   ],
   "source": [
    "gridParam = {'n_estimators': [4, 6, 9], \n",
    "             'max_features': ['log2', 'sqrt','auto'], \n",
    "             'criterion': ['entropy', 'gini'], \n",
    "             'max_depth': [2, 3, 5, 10], \n",
    "             'min_samples_split': [2, 3, 5], \n",
    "             'min_samples_leaf': [1, 5, 8]\n",
    "            }\n",
    "\n",
    "myScoring = 'accuracy'\n",
    "\n",
    "clfGridSearchCV = GridSearchCV(estimator = RandomForestClassifier(), param_grid = gridParam, scoring = myScoring, cv = 5, n_jobs = -1, iid = True, return_train_score = True)\n",
    "\n",
    "startTime = time.time()\n",
    "clfGridSearchCV.fit(X_train, y_train)\n",
    "endTime = time.time()\n",
    "\n",
    "print(f'temps : {endTime - startTime:.2f}')\n",
    "print(f'meilleur score : {clfGridSearchCV.best_score_:.2f}')\n",
    "print(f'meilleurs paramètres :\\n{clfGridSearchCV.best_params_}')\n",
    "print(f'meilleur estimateur :\\n{clfGridSearchCV.best_estimator_}')\n",
    "\n",
    "# tf1\n",
    "# {'criterion': 'gini', 'max_depth': 10, 'max_features': 'log2', 'min_samples_leaf': 5, 'min_samples_split': 5, 'n_estimators': 6}\n",
    "# {'criterion': 'entropy', 'max_depth': 10, 'max_features': 'auto', 'min_samples_leaf': 1, 'min_samples_split': 2, 'n_estimators': 6}\n",
    "# {'criterion': 'entropy', 'max_depth': 10, 'max_features': 'sqrt', 'min_samples_leaf': 1, 'min_samples_split': 3, 'n_estimators': 9}\n",
    "# {'criterion': 'gini', 'max_depth': 10, 'max_features': 'log2', 'min_samples_leaf': 1, 'min_samples_split': 5, 'n_estimators': 9}\n",
    "\n",
    "#tf2\n",
    "# {'criterion': 'gini', 'max_depth': 10, 'max_features': 'auto', 'min_samples_leaf': 1, 'min_samples_split': 5, 'n_estimators': 9}"
   ]
  },
  {
   "cell_type": "markdown",
   "metadata": {},
   "source": [
    "## Apply GridSearchCV to DecisionTreeClassifier"
   ]
  },
  {
   "cell_type": "code",
   "execution_count": 15,
   "metadata": {},
   "outputs": [
    {
     "name": "stdout",
     "output_type": "stream",
     "text": [
      "temps : 25.84\n",
      "meilleur score : 0.73\n",
      "meilleurs paramètres :\n",
      "{'criterion': 'entropy', 'max_depth': 1, 'min_samples_leaf': 1}\n",
      "meilleur estimateur :\n",
      "DecisionTreeClassifier(class_weight=None, criterion='entropy', max_depth=1,\n",
      "                       max_features=None, max_leaf_nodes=None,\n",
      "                       min_impurity_decrease=0.0, min_impurity_split=None,\n",
      "                       min_samples_leaf=1, min_samples_split=2,\n",
      "                       min_weight_fraction_leaf=0.0, presort=False,\n",
      "                       random_state=None, splitter='best')\n"
     ]
    }
   ],
   "source": [
    "gridParam = {'max_depth' : [1, 2, 3, 4, 5, 6, 7, 8, 9, 10], \n",
    "             'criterion' : ['gini', 'entropy'], \n",
    "             'min_samples_leaf' : [1, 2, 3, 4, 5, 6, 7, 8, 9, 10]\n",
    "            }\n",
    "\n",
    "myScoring = 'accuracy'\n",
    "\n",
    "clfGridSearchCV = GridSearchCV(estimator = DecisionTreeClassifier(), param_grid = gridParam, scoring = myScoring, cv = 10, n_jobs = -1, iid = True, return_train_score = True)\n",
    "\n",
    "startTime = time.time()\n",
    "clfGridSearchCV.fit(X_train, y_train)\n",
    "endTime = time.time()\n",
    "\n",
    "print(f'temps : {endTime - startTime:.2f}')\n",
    "print(f'meilleur score : {clfGridSearchCV.best_score_:.2f}')\n",
    "print(f'meilleurs paramètres :\\n{clfGridSearchCV.best_params_}')\n",
    "print(f'meilleur estimateur :\\n{clfGridSearchCV.best_estimator_}')\n",
    "\n",
    "#tf1\n",
    "# {'criterion': 'entropy', 'max_depth': 8, 'min_samples_leaf': 1}\n",
    "# {'criterion': 'entropy', 'max_depth': 6, 'min_samples_leaf': 6}\n",
    "# {'criterion': 'entropy', 'max_depth': 9, 'min_samples_leaf': 5}\n",
    "# {'criterion': 'entropy', 'max_depth': 8, 'min_samples_leaf': 1}\n",
    "\n",
    "#tf2\n",
    "# {'criterion': 'entropy', 'max_depth': 8, 'min_samples_leaf': 4}"
   ]
  },
  {
   "cell_type": "markdown",
   "metadata": {},
   "source": [
    "## Apply GridSearchCV to SVC"
   ]
  },
  {
   "cell_type": "code",
   "execution_count": 16,
   "metadata": {},
   "outputs": [
    {
     "name": "stdout",
     "output_type": "stream",
     "text": [
      "temps : 166.85\n",
      "meilleur score : 0.73\n",
      "meilleurs paramètres :\n",
      "{'C': 0.001, 'gamma': 'scale', 'kernel': 'linear'}\n",
      "meilleur estimateur :\n",
      "SVC(C=0.001, cache_size=200, class_weight=None, coef0=0.0,\n",
      "    decision_function_shape='ovr', degree=3, gamma='scale', kernel='linear',\n",
      "    max_iter=-1, probability=False, random_state=None, shrinking=True,\n",
      "    tol=0.001, verbose=False)\n"
     ]
    }
   ],
   "source": [
    "gridParam = {'C' : [0.001, 0.01, 0.1, 1, 10, 100, 1000], \n",
    "             'gamma' : ['scale', 0.0001, 0.001, 0.01, 0.1, 1], \n",
    "             'kernel' : ['linear', 'poly', 'rbf']\n",
    "            }\n",
    "\n",
    "myScoring = 'accuracy'\n",
    "\n",
    "clfGridSearchCV = GridSearchCV(estimator = SVC(), param_grid = gridParam, scoring = myScoring, cv = 5, n_jobs = 1, iid = True, return_train_score = True)\n",
    "\n",
    "startTime = time.time()\n",
    "clfGridSearchCV.fit(X_train, y_train)\n",
    "endTime = time.time()\n",
    "\n",
    "print(f'temps : {endTime - startTime:.2f}')\n",
    "print(f'meilleur score : {clfGridSearchCV.best_score_:.2f}')\n",
    "print(f'meilleurs paramètres :\\n{clfGridSearchCV.best_params_}')\n",
    "print(f'meilleur estimateur :\\n{clfGridSearchCV.best_estimator_}')\n",
    "\n",
    "#tf2\n",
    "# {'C': 1, 'gamma': 'scale', 'kernel': 'rbf'}"
   ]
  },
  {
   "cell_type": "markdown",
   "metadata": {},
   "source": [
    "## Apply GridSearchCV to KNeighborsClassifier"
   ]
  },
  {
   "cell_type": "code",
   "execution_count": 17,
   "metadata": {},
   "outputs": [
    {
     "name": "stdout",
     "output_type": "stream",
     "text": [
      "temps : 17.60\n",
      "meilleur score : 0.73\n",
      "meilleurs paramètres :\n",
      "{'metric': 'minkowski', 'n_neighbors': 2}\n",
      "meilleur estimateur :\n",
      "KNeighborsClassifier(algorithm='auto', leaf_size=30, metric='minkowski',\n",
      "                     metric_params=None, n_jobs=None, n_neighbors=2, p=2,\n",
      "                     weights='uniform')\n"
     ]
    }
   ],
   "source": [
    "gridParam = {'n_neighbors': list(range(1,15)), \n",
    "              'metric': ['minkowski', 'euclidean', 'manhattan']\n",
    "             }\n",
    "\n",
    "myScoring = 'accuracy'\n",
    "                        \n",
    "clfGridSearchCV = GridSearchCV(estimator = KNeighborsClassifier(), param_grid = gridParam, scoring = myScoring, cv = 5, n_jobs = -1, iid = True, return_train_score = True)\n",
    "\n",
    "startTime = time.time()\n",
    "clfGridSearchCV.fit(X_train, y_train)\n",
    "endTime = time.time()\n",
    "\n",
    "print(f'temps : {endTime - startTime:.2f}')\n",
    "print(f'meilleur score : {clfGridSearchCV.best_score_:.2f}')\n",
    "print(f'meilleurs paramètres :\\n{clfGridSearchCV.best_params_}')\n",
    "print(f'meilleur estimateur :\\n{clfGridSearchCV.best_estimator_}')"
   ]
  },
  {
   "cell_type": "markdown",
   "metadata": {},
   "source": [
    "## Do a gridsearch taking the previous parameters"
   ]
  },
  {
   "cell_type": "code",
   "execution_count": 18,
   "metadata": {},
   "outputs": [],
   "source": [
    "classifiers = {\n",
    "    'RandomForestClassifier': RandomForestClassifier(),\n",
    "    'DecisionTreeClassifier': DecisionTreeClassifier(),\n",
    "    'SVC': SVC(),\n",
    "    'KNeighborsClassifier': KNeighborsClassifier()\n",
    "}\n",
    "\n",
    "params = {\n",
    "    'RandomForestClassifier' : [\n",
    "        {'n_estimators' : [9, 6]}, \n",
    "        {'max_features' : ['auto', 'sqrt', 'log2']}, \n",
    "        {'criterion' : ['entropy', 'gini']}, \n",
    "        {'max_depth' : [10]}, \n",
    "        {'min_samples_split' : [2, 5]}, \n",
    "        {'min_samples_leaf' : [1, 5]}\n",
    "    ], \n",
    "    'DecisionTreeClassifier' : [\n",
    "        {'max_depth' : [9, 8]}, \n",
    "        {'criterion' : ['gini', 'entropy']}, \n",
    "        {'min_samples_leaf' : [1, 2, 3]}\n",
    "    ],\n",
    "    'SVC' : [\n",
    "        {'C': [0.001, 0.01, 0.1, 1, 10, 100, 1000]}, \n",
    "        {'gamma': ['scale', 0.0001, 0.001, 0.01, 0.1, 1]}, \n",
    "        {'kernel': ['linear', 'poly', 'rbf']}\n",
    "    ],\n",
    "    'KNeighborsClassifier' : [\n",
    "        {'metric': ['minkowski', 'manhattan']}, \n",
    "        {'n_neighbors': [1, 2]}\n",
    "    ]\n",
    "}"
   ]
  },
  {
   "cell_type": "code",
   "execution_count": 19,
   "metadata": {},
   "outputs": [
    {
     "name": "stdout",
     "output_type": "stream",
     "text": [
      "\n",
      "Le meilleur resultat est celui du classifieur RandomForestClassifier :\n",
      "\tScore : 0.74\n",
      "\tDuration : 6.87\n",
      "\tParameters :\n",
      "\t\tRandomForestClassifier(bootstrap=True, class_weight=None, criterion='gini',\n",
      "                       max_depth=None, max_features='log2', max_leaf_nodes=None,\n",
      "                       min_impurity_decrease=0.0, min_impurity_split=None,\n",
      "                       min_samples_leaf=1, min_samples_split=2,\n",
      "                       min_weight_fraction_leaf=0.0, n_estimators=10,\n",
      "                       n_jobs=None, oob_score=False, random_state=None,\n",
      "                       verbose=0, warm_start=False)\n",
      "\n",
      "Tous les résultats :\n",
      "\n",
      "\tRandomForestClassifier classifier :\n",
      "\tScore : 0.74\n",
      "\tDuration : 6.87\n",
      "\tParameters :\n",
      "\t\tRandomForestClassifier(bootstrap=True, class_weight=None, criterion='gini',\n",
      "                       max_depth=None, max_features='log2', max_leaf_nodes=None,\n",
      "                       min_impurity_decrease=0.0, min_impurity_split=None,\n",
      "                       min_samples_leaf=1, min_samples_split=2,\n",
      "                       min_weight_fraction_leaf=0.0, n_estimators=10,\n",
      "                       n_jobs=None, oob_score=False, random_state=None,\n",
      "                       verbose=0, warm_start=False)\n",
      "\n",
      "\tSVC classifier :\n",
      "\tScore : 0.73\n",
      "\tDuration : 19.27\n",
      "\tParameters :\n",
      "\t\tSVC(C=0.001, cache_size=200, class_weight=None, coef0=0.0,\n",
      "    decision_function_shape='ovr', degree=3, gamma='auto_deprecated',\n",
      "    kernel='rbf', max_iter=-1, probability=False, random_state=None,\n",
      "    shrinking=True, tol=0.001, verbose=False)\n",
      "\n",
      "\tKNeighborsClassifier classifier :\n",
      "\tScore : 0.73\n",
      "\tDuration : 1.00\n",
      "\tParameters :\n",
      "\t\tKNeighborsClassifier(algorithm='auto', leaf_size=30, metric='minkowski',\n",
      "                     metric_params=None, n_jobs=None, n_neighbors=5, p=2,\n",
      "                     weights='uniform')\n",
      "\n",
      "\tDecisionTreeClassifier classifier :\n",
      "\tScore : 0.63\n",
      "\tDuration : 1.37\n",
      "\tParameters :\n",
      "\t\tDecisionTreeClassifier(class_weight=None, criterion='gini', max_depth=9,\n",
      "                       max_features=None, max_leaf_nodes=None,\n",
      "                       min_impurity_decrease=0.0, min_impurity_split=None,\n",
      "                       min_samples_leaf=1, min_samples_split=2,\n",
      "                       min_weight_fraction_leaf=0.0, presort=False,\n",
      "                       random_state=None, splitter='best')\n",
      "\n"
     ]
    }
   ],
   "source": [
    "class Result:\n",
    "    def __init__(self, name, score, parameters, duration):\n",
    "        self.name = name\n",
    "        self.score = score\n",
    "        self.parameters = parameters\n",
    "        self.duration = duration\n",
    "    def __repr__(self):\n",
    "        return repr((self.name, self.score, self.parameters, self.duration))\n",
    "\n",
    "results = []\n",
    "myScoring = 'accuracy'\n",
    "\n",
    "for key, value in classifiers.items():\n",
    "    clfGridSearchCV = GridSearchCV(estimator = value, param_grid = params[key], scoring = myScoring, cv = 10, n_jobs = 1, iid = True)\n",
    "    startTime = time.time()\n",
    "    clfGridSearchCV.fit(X_train, y_train)\n",
    "    endTime = time.time()\n",
    "    result = Result(key, clfGridSearchCV.best_score_, clfGridSearchCV.best_estimator_, endTime - startTime)\n",
    "    results.append(result)\n",
    "\n",
    "results = sorted(results, key = lambda result: result.score, reverse = True)\n",
    "\n",
    "print(f'')\n",
    "print(f'Le meilleur resultat est celui du classifieur {results[0].name} :\\n\\tScore : {results[0].score:.2f}\\n\\tDuration : {results[0].duration:.2f}\\n\\tParameters :\\n\\t\\t{results[0].parameters}')\n",
    "\n",
    "print(f'\\nTous les résultats :\\n')\n",
    "for result in results:\n",
    "    print(f'\\t{result.name} classifier :\\n\\tScore : {result.score:.2f}\\n\\tDuration : {result.duration:.2f}\\n\\tParameters :\\n\\t\\t{result.parameters}\\n')"
   ]
  },
  {
   "cell_type": "markdown",
   "metadata": {},
   "source": [
    "## Save the best learned model"
   ]
  },
  {
   "cell_type": "code",
   "execution_count": 20,
   "metadata": {},
   "outputs": [],
   "source": [
    "pickle.dump(results[0].parameters, open('modeles/best.sav', 'wb'))"
   ]
  },
  {
   "cell_type": "markdown",
   "metadata": {},
   "source": [
    "## Create pipeline"
   ]
  },
  {
   "cell_type": "code",
   "execution_count": 21,
   "metadata": {},
   "outputs": [],
   "source": [
    "#pipeline = Pipeline([('scl', StandardScaler()), ('pca', PCA(n_components = 2)), ('clf', DecisionTreeClassifier(random_state = 42))])\n",
    "#pipeline = Pipeline([('vect', MinMaxScaler()), ('clf', SVC(gamma = 'scale'))])"
   ]
  },
  {
   "cell_type": "markdown",
   "metadata": {},
   "source": [
    "## Reload the best model to test it with y_test"
   ]
  },
  {
   "cell_type": "code",
   "execution_count": 22,
   "metadata": {},
   "outputs": [
    {
     "name": "stdout",
     "output_type": "stream",
     "text": [
      "Modèle chargé :\n",
      "RandomForestClassifier(bootstrap=True, class_weight=None, criterion='gini',\n",
      "                       max_depth=None, max_features='log2', max_leaf_nodes=None,\n",
      "                       min_impurity_decrease=0.0, min_impurity_split=None,\n",
      "                       min_samples_leaf=1, min_samples_split=2,\n",
      "                       min_weight_fraction_leaf=0.0, n_estimators=10,\n",
      "                       n_jobs=None, oob_score=False, random_state=None,\n",
      "                       verbose=0, warm_start=False)\n",
      "\n",
      "Taille des données 351 mal classés 99\n",
      "\n",
      "Accuracy : 0.72\n",
      "\n",
      "Matrice de confusion :\n",
      "[[250   2]\n",
      " [ 97   2]]\n",
      "\n",
      "Classification report :\n",
      "              precision    recall  f1-score   support\n",
      "\n",
      "         0.0       0.72      0.99      0.83       252\n",
      "         1.0       0.50      0.02      0.04        99\n",
      "\n",
      "    accuracy                           0.72       351\n",
      "   macro avg       0.61      0.51      0.44       351\n",
      "weighted avg       0.66      0.72      0.61       351\n",
      "\n"
     ]
    }
   ],
   "source": [
    "clf_loaded = pickle.load(open('modeles/best.sav', 'rb'))\n",
    "\n",
    "print(f'Modèle chargé :\\n{clf_loaded}\\n')\n",
    "\n",
    "result = clf_loaded.predict(X_test)\n",
    "\n",
    "cpt_mal_classes(y_test, result)\n",
    "\n",
    "print(f'Accuracy : {accuracy_score(result, y_test):.2f}\\n')\n",
    "print(f'Matrice de confusion :\\n{confusion_matrix(y_test, result)}\\n')\n",
    "print(f'Classification report :\\n{classification_report(y_test, result)}')"
   ]
  }
 ],
 "metadata": {
  "kernelspec": {
   "display_name": "Python 3",
   "language": "python",
   "name": "python3"
  },
  "language_info": {
   "codemirror_mode": {
    "name": "ipython",
    "version": 3
   },
   "file_extension": ".py",
   "mimetype": "text/x-python",
   "name": "python",
   "nbconvert_exporter": "python",
   "pygments_lexer": "ipython3",
   "version": "3.7.4"
  }
 },
 "nbformat": 4,
 "nbformat_minor": 2
}
